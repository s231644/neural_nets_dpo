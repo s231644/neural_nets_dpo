{
  "nbformat": 4,
  "nbformat_minor": 0,
  "metadata": {
    "colab": {
      "name": "PyTorch Turorial 1.ipynb",
      "provenance": [],
      "collapsed_sections": []
    },
    "kernelspec": {
      "name": "python3",
      "display_name": "Python 3"
    },
    "accelerator": "GPU",
    "widgets": {
      "application/vnd.jupyter.widget-state+json": {
        "ab02619c78074200b0306183339544f1": {
          "model_module": "@jupyter-widgets/controls",
          "model_name": "HBoxModel",
          "state": {
            "_view_name": "HBoxView",
            "_dom_classes": [],
            "_model_name": "HBoxModel",
            "_view_module": "@jupyter-widgets/controls",
            "_model_module_version": "1.5.0",
            "_view_count": null,
            "_view_module_version": "1.5.0",
            "box_style": "",
            "layout": "IPY_MODEL_5eb60baf13634bc793f02835374ea9dc",
            "_model_module": "@jupyter-widgets/controls",
            "children": [
              "IPY_MODEL_82017349551846f59eccaa41ea9b8a64",
              "IPY_MODEL_9dfa532e2e894506a96fe3a17128df2f"
            ]
          }
        },
        "5eb60baf13634bc793f02835374ea9dc": {
          "model_module": "@jupyter-widgets/base",
          "model_name": "LayoutModel",
          "state": {
            "_view_name": "LayoutView",
            "grid_template_rows": null,
            "right": null,
            "justify_content": null,
            "_view_module": "@jupyter-widgets/base",
            "overflow": null,
            "_model_module_version": "1.2.0",
            "_view_count": null,
            "flex_flow": null,
            "width": null,
            "min_width": null,
            "border": null,
            "align_items": null,
            "bottom": null,
            "_model_module": "@jupyter-widgets/base",
            "top": null,
            "grid_column": null,
            "overflow_y": null,
            "overflow_x": null,
            "grid_auto_flow": null,
            "grid_area": null,
            "grid_template_columns": null,
            "flex": null,
            "_model_name": "LayoutModel",
            "justify_items": null,
            "grid_row": null,
            "max_height": null,
            "align_content": null,
            "visibility": null,
            "align_self": null,
            "height": null,
            "min_height": null,
            "padding": null,
            "grid_auto_rows": null,
            "grid_gap": null,
            "max_width": null,
            "order": null,
            "_view_module_version": "1.2.0",
            "grid_template_areas": null,
            "object_position": null,
            "object_fit": null,
            "grid_auto_columns": null,
            "margin": null,
            "display": null,
            "left": null
          }
        },
        "82017349551846f59eccaa41ea9b8a64": {
          "model_module": "@jupyter-widgets/controls",
          "model_name": "FloatProgressModel",
          "state": {
            "_view_name": "ProgressView",
            "style": "IPY_MODEL_ce1bb14392df45b29eaa93c9ff8b9b5b",
            "_dom_classes": [],
            "description": "",
            "_model_name": "FloatProgressModel",
            "bar_style": "success",
            "max": 9912422,
            "_view_module": "@jupyter-widgets/controls",
            "_model_module_version": "1.5.0",
            "value": 9912422,
            "_view_count": null,
            "_view_module_version": "1.5.0",
            "orientation": "horizontal",
            "min": 0,
            "description_tooltip": null,
            "_model_module": "@jupyter-widgets/controls",
            "layout": "IPY_MODEL_d4371a05fe094499b919c6ac6c26a963"
          }
        },
        "9dfa532e2e894506a96fe3a17128df2f": {
          "model_module": "@jupyter-widgets/controls",
          "model_name": "HTMLModel",
          "state": {
            "_view_name": "HTMLView",
            "style": "IPY_MODEL_65cd383ef6ee4ad595c4cdbe78000ff7",
            "_dom_classes": [],
            "description": "",
            "_model_name": "HTMLModel",
            "placeholder": "​",
            "_view_module": "@jupyter-widgets/controls",
            "_model_module_version": "1.5.0",
            "value": " 9913344/? [00:01&lt;00:00, 5043626.77it/s]",
            "_view_count": null,
            "_view_module_version": "1.5.0",
            "description_tooltip": null,
            "_model_module": "@jupyter-widgets/controls",
            "layout": "IPY_MODEL_117930439dc84f699ff487944da88cea"
          }
        },
        "ce1bb14392df45b29eaa93c9ff8b9b5b": {
          "model_module": "@jupyter-widgets/controls",
          "model_name": "ProgressStyleModel",
          "state": {
            "_view_name": "StyleView",
            "_model_name": "ProgressStyleModel",
            "description_width": "initial",
            "_view_module": "@jupyter-widgets/base",
            "_model_module_version": "1.5.0",
            "_view_count": null,
            "_view_module_version": "1.2.0",
            "bar_color": null,
            "_model_module": "@jupyter-widgets/controls"
          }
        },
        "d4371a05fe094499b919c6ac6c26a963": {
          "model_module": "@jupyter-widgets/base",
          "model_name": "LayoutModel",
          "state": {
            "_view_name": "LayoutView",
            "grid_template_rows": null,
            "right": null,
            "justify_content": null,
            "_view_module": "@jupyter-widgets/base",
            "overflow": null,
            "_model_module_version": "1.2.0",
            "_view_count": null,
            "flex_flow": null,
            "width": null,
            "min_width": null,
            "border": null,
            "align_items": null,
            "bottom": null,
            "_model_module": "@jupyter-widgets/base",
            "top": null,
            "grid_column": null,
            "overflow_y": null,
            "overflow_x": null,
            "grid_auto_flow": null,
            "grid_area": null,
            "grid_template_columns": null,
            "flex": null,
            "_model_name": "LayoutModel",
            "justify_items": null,
            "grid_row": null,
            "max_height": null,
            "align_content": null,
            "visibility": null,
            "align_self": null,
            "height": null,
            "min_height": null,
            "padding": null,
            "grid_auto_rows": null,
            "grid_gap": null,
            "max_width": null,
            "order": null,
            "_view_module_version": "1.2.0",
            "grid_template_areas": null,
            "object_position": null,
            "object_fit": null,
            "grid_auto_columns": null,
            "margin": null,
            "display": null,
            "left": null
          }
        },
        "65cd383ef6ee4ad595c4cdbe78000ff7": {
          "model_module": "@jupyter-widgets/controls",
          "model_name": "DescriptionStyleModel",
          "state": {
            "_view_name": "StyleView",
            "_model_name": "DescriptionStyleModel",
            "description_width": "",
            "_view_module": "@jupyter-widgets/base",
            "_model_module_version": "1.5.0",
            "_view_count": null,
            "_view_module_version": "1.2.0",
            "_model_module": "@jupyter-widgets/controls"
          }
        },
        "117930439dc84f699ff487944da88cea": {
          "model_module": "@jupyter-widgets/base",
          "model_name": "LayoutModel",
          "state": {
            "_view_name": "LayoutView",
            "grid_template_rows": null,
            "right": null,
            "justify_content": null,
            "_view_module": "@jupyter-widgets/base",
            "overflow": null,
            "_model_module_version": "1.2.0",
            "_view_count": null,
            "flex_flow": null,
            "width": null,
            "min_width": null,
            "border": null,
            "align_items": null,
            "bottom": null,
            "_model_module": "@jupyter-widgets/base",
            "top": null,
            "grid_column": null,
            "overflow_y": null,
            "overflow_x": null,
            "grid_auto_flow": null,
            "grid_area": null,
            "grid_template_columns": null,
            "flex": null,
            "_model_name": "LayoutModel",
            "justify_items": null,
            "grid_row": null,
            "max_height": null,
            "align_content": null,
            "visibility": null,
            "align_self": null,
            "height": null,
            "min_height": null,
            "padding": null,
            "grid_auto_rows": null,
            "grid_gap": null,
            "max_width": null,
            "order": null,
            "_view_module_version": "1.2.0",
            "grid_template_areas": null,
            "object_position": null,
            "object_fit": null,
            "grid_auto_columns": null,
            "margin": null,
            "display": null,
            "left": null
          }
        },
        "8ac41549e5cf4ce28547a365c78fe870": {
          "model_module": "@jupyter-widgets/controls",
          "model_name": "HBoxModel",
          "state": {
            "_view_name": "HBoxView",
            "_dom_classes": [],
            "_model_name": "HBoxModel",
            "_view_module": "@jupyter-widgets/controls",
            "_model_module_version": "1.5.0",
            "_view_count": null,
            "_view_module_version": "1.5.0",
            "box_style": "",
            "layout": "IPY_MODEL_e02a6e48d14040bd9a48dba2bdab9d5d",
            "_model_module": "@jupyter-widgets/controls",
            "children": [
              "IPY_MODEL_999ff21b97f244809e33ab716126fb20",
              "IPY_MODEL_7dc4609c8d9c4c978aecae487a6fcfa0"
            ]
          }
        },
        "e02a6e48d14040bd9a48dba2bdab9d5d": {
          "model_module": "@jupyter-widgets/base",
          "model_name": "LayoutModel",
          "state": {
            "_view_name": "LayoutView",
            "grid_template_rows": null,
            "right": null,
            "justify_content": null,
            "_view_module": "@jupyter-widgets/base",
            "overflow": null,
            "_model_module_version": "1.2.0",
            "_view_count": null,
            "flex_flow": null,
            "width": null,
            "min_width": null,
            "border": null,
            "align_items": null,
            "bottom": null,
            "_model_module": "@jupyter-widgets/base",
            "top": null,
            "grid_column": null,
            "overflow_y": null,
            "overflow_x": null,
            "grid_auto_flow": null,
            "grid_area": null,
            "grid_template_columns": null,
            "flex": null,
            "_model_name": "LayoutModel",
            "justify_items": null,
            "grid_row": null,
            "max_height": null,
            "align_content": null,
            "visibility": null,
            "align_self": null,
            "height": null,
            "min_height": null,
            "padding": null,
            "grid_auto_rows": null,
            "grid_gap": null,
            "max_width": null,
            "order": null,
            "_view_module_version": "1.2.0",
            "grid_template_areas": null,
            "object_position": null,
            "object_fit": null,
            "grid_auto_columns": null,
            "margin": null,
            "display": null,
            "left": null
          }
        },
        "999ff21b97f244809e33ab716126fb20": {
          "model_module": "@jupyter-widgets/controls",
          "model_name": "FloatProgressModel",
          "state": {
            "_view_name": "ProgressView",
            "style": "IPY_MODEL_46858bb87797444f90f975607158a385",
            "_dom_classes": [],
            "description": "",
            "_model_name": "FloatProgressModel",
            "bar_style": "success",
            "max": 28881,
            "_view_module": "@jupyter-widgets/controls",
            "_model_module_version": "1.5.0",
            "value": 28881,
            "_view_count": null,
            "_view_module_version": "1.5.0",
            "orientation": "horizontal",
            "min": 0,
            "description_tooltip": null,
            "_model_module": "@jupyter-widgets/controls",
            "layout": "IPY_MODEL_e041b1bae403400c97f973b48a2ed213"
          }
        },
        "7dc4609c8d9c4c978aecae487a6fcfa0": {
          "model_module": "@jupyter-widgets/controls",
          "model_name": "HTMLModel",
          "state": {
            "_view_name": "HTMLView",
            "style": "IPY_MODEL_854b4b42b20b4b489ceedb3d995e7a26",
            "_dom_classes": [],
            "description": "",
            "_model_name": "HTMLModel",
            "placeholder": "​",
            "_view_module": "@jupyter-widgets/controls",
            "_model_module_version": "1.5.0",
            "value": " 29696/? [01:13&lt;00:00, 404.67it/s]",
            "_view_count": null,
            "_view_module_version": "1.5.0",
            "description_tooltip": null,
            "_model_module": "@jupyter-widgets/controls",
            "layout": "IPY_MODEL_1e1391b810574a76b4e54de59237fc16"
          }
        },
        "46858bb87797444f90f975607158a385": {
          "model_module": "@jupyter-widgets/controls",
          "model_name": "ProgressStyleModel",
          "state": {
            "_view_name": "StyleView",
            "_model_name": "ProgressStyleModel",
            "description_width": "initial",
            "_view_module": "@jupyter-widgets/base",
            "_model_module_version": "1.5.0",
            "_view_count": null,
            "_view_module_version": "1.2.0",
            "bar_color": null,
            "_model_module": "@jupyter-widgets/controls"
          }
        },
        "e041b1bae403400c97f973b48a2ed213": {
          "model_module": "@jupyter-widgets/base",
          "model_name": "LayoutModel",
          "state": {
            "_view_name": "LayoutView",
            "grid_template_rows": null,
            "right": null,
            "justify_content": null,
            "_view_module": "@jupyter-widgets/base",
            "overflow": null,
            "_model_module_version": "1.2.0",
            "_view_count": null,
            "flex_flow": null,
            "width": null,
            "min_width": null,
            "border": null,
            "align_items": null,
            "bottom": null,
            "_model_module": "@jupyter-widgets/base",
            "top": null,
            "grid_column": null,
            "overflow_y": null,
            "overflow_x": null,
            "grid_auto_flow": null,
            "grid_area": null,
            "grid_template_columns": null,
            "flex": null,
            "_model_name": "LayoutModel",
            "justify_items": null,
            "grid_row": null,
            "max_height": null,
            "align_content": null,
            "visibility": null,
            "align_self": null,
            "height": null,
            "min_height": null,
            "padding": null,
            "grid_auto_rows": null,
            "grid_gap": null,
            "max_width": null,
            "order": null,
            "_view_module_version": "1.2.0",
            "grid_template_areas": null,
            "object_position": null,
            "object_fit": null,
            "grid_auto_columns": null,
            "margin": null,
            "display": null,
            "left": null
          }
        },
        "854b4b42b20b4b489ceedb3d995e7a26": {
          "model_module": "@jupyter-widgets/controls",
          "model_name": "DescriptionStyleModel",
          "state": {
            "_view_name": "StyleView",
            "_model_name": "DescriptionStyleModel",
            "description_width": "",
            "_view_module": "@jupyter-widgets/base",
            "_model_module_version": "1.5.0",
            "_view_count": null,
            "_view_module_version": "1.2.0",
            "_model_module": "@jupyter-widgets/controls"
          }
        },
        "1e1391b810574a76b4e54de59237fc16": {
          "model_module": "@jupyter-widgets/base",
          "model_name": "LayoutModel",
          "state": {
            "_view_name": "LayoutView",
            "grid_template_rows": null,
            "right": null,
            "justify_content": null,
            "_view_module": "@jupyter-widgets/base",
            "overflow": null,
            "_model_module_version": "1.2.0",
            "_view_count": null,
            "flex_flow": null,
            "width": null,
            "min_width": null,
            "border": null,
            "align_items": null,
            "bottom": null,
            "_model_module": "@jupyter-widgets/base",
            "top": null,
            "grid_column": null,
            "overflow_y": null,
            "overflow_x": null,
            "grid_auto_flow": null,
            "grid_area": null,
            "grid_template_columns": null,
            "flex": null,
            "_model_name": "LayoutModel",
            "justify_items": null,
            "grid_row": null,
            "max_height": null,
            "align_content": null,
            "visibility": null,
            "align_self": null,
            "height": null,
            "min_height": null,
            "padding": null,
            "grid_auto_rows": null,
            "grid_gap": null,
            "max_width": null,
            "order": null,
            "_view_module_version": "1.2.0",
            "grid_template_areas": null,
            "object_position": null,
            "object_fit": null,
            "grid_auto_columns": null,
            "margin": null,
            "display": null,
            "left": null
          }
        },
        "78023e663fa0485cb550a2c5436cc440": {
          "model_module": "@jupyter-widgets/controls",
          "model_name": "HBoxModel",
          "state": {
            "_view_name": "HBoxView",
            "_dom_classes": [],
            "_model_name": "HBoxModel",
            "_view_module": "@jupyter-widgets/controls",
            "_model_module_version": "1.5.0",
            "_view_count": null,
            "_view_module_version": "1.5.0",
            "box_style": "",
            "layout": "IPY_MODEL_e5480faf0d814b8489a6544f37416a6e",
            "_model_module": "@jupyter-widgets/controls",
            "children": [
              "IPY_MODEL_fdea14886b784cf58618fca57cb59964",
              "IPY_MODEL_01cb0059ef8f40a39bd67627fb13644c"
            ]
          }
        },
        "e5480faf0d814b8489a6544f37416a6e": {
          "model_module": "@jupyter-widgets/base",
          "model_name": "LayoutModel",
          "state": {
            "_view_name": "LayoutView",
            "grid_template_rows": null,
            "right": null,
            "justify_content": null,
            "_view_module": "@jupyter-widgets/base",
            "overflow": null,
            "_model_module_version": "1.2.0",
            "_view_count": null,
            "flex_flow": null,
            "width": null,
            "min_width": null,
            "border": null,
            "align_items": null,
            "bottom": null,
            "_model_module": "@jupyter-widgets/base",
            "top": null,
            "grid_column": null,
            "overflow_y": null,
            "overflow_x": null,
            "grid_auto_flow": null,
            "grid_area": null,
            "grid_template_columns": null,
            "flex": null,
            "_model_name": "LayoutModel",
            "justify_items": null,
            "grid_row": null,
            "max_height": null,
            "align_content": null,
            "visibility": null,
            "align_self": null,
            "height": null,
            "min_height": null,
            "padding": null,
            "grid_auto_rows": null,
            "grid_gap": null,
            "max_width": null,
            "order": null,
            "_view_module_version": "1.2.0",
            "grid_template_areas": null,
            "object_position": null,
            "object_fit": null,
            "grid_auto_columns": null,
            "margin": null,
            "display": null,
            "left": null
          }
        },
        "fdea14886b784cf58618fca57cb59964": {
          "model_module": "@jupyter-widgets/controls",
          "model_name": "FloatProgressModel",
          "state": {
            "_view_name": "ProgressView",
            "style": "IPY_MODEL_9893b8545cf447baa62ec87b73d9b67c",
            "_dom_classes": [],
            "description": "",
            "_model_name": "FloatProgressModel",
            "bar_style": "success",
            "max": 1648877,
            "_view_module": "@jupyter-widgets/controls",
            "_model_module_version": "1.5.0",
            "value": 1648877,
            "_view_count": null,
            "_view_module_version": "1.5.0",
            "orientation": "horizontal",
            "min": 0,
            "description_tooltip": null,
            "_model_module": "@jupyter-widgets/controls",
            "layout": "IPY_MODEL_bb1163e812f34f4397a48f165698e939"
          }
        },
        "01cb0059ef8f40a39bd67627fb13644c": {
          "model_module": "@jupyter-widgets/controls",
          "model_name": "HTMLModel",
          "state": {
            "_view_name": "HTMLView",
            "style": "IPY_MODEL_f02b4badf42d46b1a5eb54355a0aa8cc",
            "_dom_classes": [],
            "description": "",
            "_model_name": "HTMLModel",
            "placeholder": "​",
            "_view_module": "@jupyter-widgets/controls",
            "_model_module_version": "1.5.0",
            "value": " 1649664/? [00:14&lt;00:00, 114668.00it/s]",
            "_view_count": null,
            "_view_module_version": "1.5.0",
            "description_tooltip": null,
            "_model_module": "@jupyter-widgets/controls",
            "layout": "IPY_MODEL_55156733532a468281682aefa1efc89e"
          }
        },
        "9893b8545cf447baa62ec87b73d9b67c": {
          "model_module": "@jupyter-widgets/controls",
          "model_name": "ProgressStyleModel",
          "state": {
            "_view_name": "StyleView",
            "_model_name": "ProgressStyleModel",
            "description_width": "initial",
            "_view_module": "@jupyter-widgets/base",
            "_model_module_version": "1.5.0",
            "_view_count": null,
            "_view_module_version": "1.2.0",
            "bar_color": null,
            "_model_module": "@jupyter-widgets/controls"
          }
        },
        "bb1163e812f34f4397a48f165698e939": {
          "model_module": "@jupyter-widgets/base",
          "model_name": "LayoutModel",
          "state": {
            "_view_name": "LayoutView",
            "grid_template_rows": null,
            "right": null,
            "justify_content": null,
            "_view_module": "@jupyter-widgets/base",
            "overflow": null,
            "_model_module_version": "1.2.0",
            "_view_count": null,
            "flex_flow": null,
            "width": null,
            "min_width": null,
            "border": null,
            "align_items": null,
            "bottom": null,
            "_model_module": "@jupyter-widgets/base",
            "top": null,
            "grid_column": null,
            "overflow_y": null,
            "overflow_x": null,
            "grid_auto_flow": null,
            "grid_area": null,
            "grid_template_columns": null,
            "flex": null,
            "_model_name": "LayoutModel",
            "justify_items": null,
            "grid_row": null,
            "max_height": null,
            "align_content": null,
            "visibility": null,
            "align_self": null,
            "height": null,
            "min_height": null,
            "padding": null,
            "grid_auto_rows": null,
            "grid_gap": null,
            "max_width": null,
            "order": null,
            "_view_module_version": "1.2.0",
            "grid_template_areas": null,
            "object_position": null,
            "object_fit": null,
            "grid_auto_columns": null,
            "margin": null,
            "display": null,
            "left": null
          }
        },
        "f02b4badf42d46b1a5eb54355a0aa8cc": {
          "model_module": "@jupyter-widgets/controls",
          "model_name": "DescriptionStyleModel",
          "state": {
            "_view_name": "StyleView",
            "_model_name": "DescriptionStyleModel",
            "description_width": "",
            "_view_module": "@jupyter-widgets/base",
            "_model_module_version": "1.5.0",
            "_view_count": null,
            "_view_module_version": "1.2.0",
            "_model_module": "@jupyter-widgets/controls"
          }
        },
        "55156733532a468281682aefa1efc89e": {
          "model_module": "@jupyter-widgets/base",
          "model_name": "LayoutModel",
          "state": {
            "_view_name": "LayoutView",
            "grid_template_rows": null,
            "right": null,
            "justify_content": null,
            "_view_module": "@jupyter-widgets/base",
            "overflow": null,
            "_model_module_version": "1.2.0",
            "_view_count": null,
            "flex_flow": null,
            "width": null,
            "min_width": null,
            "border": null,
            "align_items": null,
            "bottom": null,
            "_model_module": "@jupyter-widgets/base",
            "top": null,
            "grid_column": null,
            "overflow_y": null,
            "overflow_x": null,
            "grid_auto_flow": null,
            "grid_area": null,
            "grid_template_columns": null,
            "flex": null,
            "_model_name": "LayoutModel",
            "justify_items": null,
            "grid_row": null,
            "max_height": null,
            "align_content": null,
            "visibility": null,
            "align_self": null,
            "height": null,
            "min_height": null,
            "padding": null,
            "grid_auto_rows": null,
            "grid_gap": null,
            "max_width": null,
            "order": null,
            "_view_module_version": "1.2.0",
            "grid_template_areas": null,
            "object_position": null,
            "object_fit": null,
            "grid_auto_columns": null,
            "margin": null,
            "display": null,
            "left": null
          }
        },
        "6ad2ca7daa5349eebbb9c1f8eede9c32": {
          "model_module": "@jupyter-widgets/controls",
          "model_name": "HBoxModel",
          "state": {
            "_view_name": "HBoxView",
            "_dom_classes": [],
            "_model_name": "HBoxModel",
            "_view_module": "@jupyter-widgets/controls",
            "_model_module_version": "1.5.0",
            "_view_count": null,
            "_view_module_version": "1.5.0",
            "box_style": "",
            "layout": "IPY_MODEL_3e9bf060fe6c42f2a6b562f98a73d829",
            "_model_module": "@jupyter-widgets/controls",
            "children": [
              "IPY_MODEL_0985e7125def429ca918604b761dd371",
              "IPY_MODEL_737aaae608ce4ed8afba0d8192d8d18b"
            ]
          }
        },
        "3e9bf060fe6c42f2a6b562f98a73d829": {
          "model_module": "@jupyter-widgets/base",
          "model_name": "LayoutModel",
          "state": {
            "_view_name": "LayoutView",
            "grid_template_rows": null,
            "right": null,
            "justify_content": null,
            "_view_module": "@jupyter-widgets/base",
            "overflow": null,
            "_model_module_version": "1.2.0",
            "_view_count": null,
            "flex_flow": null,
            "width": null,
            "min_width": null,
            "border": null,
            "align_items": null,
            "bottom": null,
            "_model_module": "@jupyter-widgets/base",
            "top": null,
            "grid_column": null,
            "overflow_y": null,
            "overflow_x": null,
            "grid_auto_flow": null,
            "grid_area": null,
            "grid_template_columns": null,
            "flex": null,
            "_model_name": "LayoutModel",
            "justify_items": null,
            "grid_row": null,
            "max_height": null,
            "align_content": null,
            "visibility": null,
            "align_self": null,
            "height": null,
            "min_height": null,
            "padding": null,
            "grid_auto_rows": null,
            "grid_gap": null,
            "max_width": null,
            "order": null,
            "_view_module_version": "1.2.0",
            "grid_template_areas": null,
            "object_position": null,
            "object_fit": null,
            "grid_auto_columns": null,
            "margin": null,
            "display": null,
            "left": null
          }
        },
        "0985e7125def429ca918604b761dd371": {
          "model_module": "@jupyter-widgets/controls",
          "model_name": "FloatProgressModel",
          "state": {
            "_view_name": "ProgressView",
            "style": "IPY_MODEL_75ae7e51783640a4bbad2e6dd0819b9f",
            "_dom_classes": [],
            "description": "",
            "_model_name": "FloatProgressModel",
            "bar_style": "success",
            "max": 4542,
            "_view_module": "@jupyter-widgets/controls",
            "_model_module_version": "1.5.0",
            "value": 4542,
            "_view_count": null,
            "_view_module_version": "1.5.0",
            "orientation": "horizontal",
            "min": 0,
            "description_tooltip": null,
            "_model_module": "@jupyter-widgets/controls",
            "layout": "IPY_MODEL_a2ef98a1d55d4171965257477b25f72d"
          }
        },
        "737aaae608ce4ed8afba0d8192d8d18b": {
          "model_module": "@jupyter-widgets/controls",
          "model_name": "HTMLModel",
          "state": {
            "_view_name": "HTMLView",
            "style": "IPY_MODEL_9cb3c5f4f0104fd08134106e4ed433bf",
            "_dom_classes": [],
            "description": "",
            "_model_name": "HTMLModel",
            "placeholder": "​",
            "_view_module": "@jupyter-widgets/controls",
            "_model_module_version": "1.5.0",
            "value": " 5120/? [00:13&lt;00:00, 391.22it/s]",
            "_view_count": null,
            "_view_module_version": "1.5.0",
            "description_tooltip": null,
            "_model_module": "@jupyter-widgets/controls",
            "layout": "IPY_MODEL_b907b12dd1f74c90b7ecbcf997e05abb"
          }
        },
        "75ae7e51783640a4bbad2e6dd0819b9f": {
          "model_module": "@jupyter-widgets/controls",
          "model_name": "ProgressStyleModel",
          "state": {
            "_view_name": "StyleView",
            "_model_name": "ProgressStyleModel",
            "description_width": "initial",
            "_view_module": "@jupyter-widgets/base",
            "_model_module_version": "1.5.0",
            "_view_count": null,
            "_view_module_version": "1.2.0",
            "bar_color": null,
            "_model_module": "@jupyter-widgets/controls"
          }
        },
        "a2ef98a1d55d4171965257477b25f72d": {
          "model_module": "@jupyter-widgets/base",
          "model_name": "LayoutModel",
          "state": {
            "_view_name": "LayoutView",
            "grid_template_rows": null,
            "right": null,
            "justify_content": null,
            "_view_module": "@jupyter-widgets/base",
            "overflow": null,
            "_model_module_version": "1.2.0",
            "_view_count": null,
            "flex_flow": null,
            "width": null,
            "min_width": null,
            "border": null,
            "align_items": null,
            "bottom": null,
            "_model_module": "@jupyter-widgets/base",
            "top": null,
            "grid_column": null,
            "overflow_y": null,
            "overflow_x": null,
            "grid_auto_flow": null,
            "grid_area": null,
            "grid_template_columns": null,
            "flex": null,
            "_model_name": "LayoutModel",
            "justify_items": null,
            "grid_row": null,
            "max_height": null,
            "align_content": null,
            "visibility": null,
            "align_self": null,
            "height": null,
            "min_height": null,
            "padding": null,
            "grid_auto_rows": null,
            "grid_gap": null,
            "max_width": null,
            "order": null,
            "_view_module_version": "1.2.0",
            "grid_template_areas": null,
            "object_position": null,
            "object_fit": null,
            "grid_auto_columns": null,
            "margin": null,
            "display": null,
            "left": null
          }
        },
        "9cb3c5f4f0104fd08134106e4ed433bf": {
          "model_module": "@jupyter-widgets/controls",
          "model_name": "DescriptionStyleModel",
          "state": {
            "_view_name": "StyleView",
            "_model_name": "DescriptionStyleModel",
            "description_width": "",
            "_view_module": "@jupyter-widgets/base",
            "_model_module_version": "1.5.0",
            "_view_count": null,
            "_view_module_version": "1.2.0",
            "_model_module": "@jupyter-widgets/controls"
          }
        },
        "b907b12dd1f74c90b7ecbcf997e05abb": {
          "model_module": "@jupyter-widgets/base",
          "model_name": "LayoutModel",
          "state": {
            "_view_name": "LayoutView",
            "grid_template_rows": null,
            "right": null,
            "justify_content": null,
            "_view_module": "@jupyter-widgets/base",
            "overflow": null,
            "_model_module_version": "1.2.0",
            "_view_count": null,
            "flex_flow": null,
            "width": null,
            "min_width": null,
            "border": null,
            "align_items": null,
            "bottom": null,
            "_model_module": "@jupyter-widgets/base",
            "top": null,
            "grid_column": null,
            "overflow_y": null,
            "overflow_x": null,
            "grid_auto_flow": null,
            "grid_area": null,
            "grid_template_columns": null,
            "flex": null,
            "_model_name": "LayoutModel",
            "justify_items": null,
            "grid_row": null,
            "max_height": null,
            "align_content": null,
            "visibility": null,
            "align_self": null,
            "height": null,
            "min_height": null,
            "padding": null,
            "grid_auto_rows": null,
            "grid_gap": null,
            "max_width": null,
            "order": null,
            "_view_module_version": "1.2.0",
            "grid_template_areas": null,
            "object_position": null,
            "object_fit": null,
            "grid_auto_columns": null,
            "margin": null,
            "display": null,
            "left": null
          }
        }
      }
    }
  },
  "cells": [
    {
      "cell_type": "markdown",
      "metadata": {
        "id": "Jgy0jsED27G1"
      },
      "source": [
        "# Часть 1. Тензоры и градиенты"
      ]
    },
    {
      "cell_type": "code",
      "metadata": {
        "id": "-rXQ8zkb1hmu"
      },
      "source": [
        "import torch"
      ],
      "execution_count": null,
      "outputs": []
    },
    {
      "cell_type": "markdown",
      "metadata": {
        "id": "FkiI6mOn1qkQ"
      },
      "source": [
        "## Тензоры"
      ]
    },
    {
      "cell_type": "code",
      "metadata": {
        "id": "zCyX2kQ71mCI",
        "colab": {
          "base_uri": "https://localhost:8080/"
        },
        "outputId": "80901bb8-142c-4493-ed6b-37471a982af3"
      },
      "source": [
        "# Number\n",
        "t1 = torch.tensor(4.)\n",
        "t1"
      ],
      "execution_count": null,
      "outputs": [
        {
          "output_type": "execute_result",
          "data": {
            "text/plain": [
              "tensor(4.)"
            ]
          },
          "metadata": {
            "tags": []
          },
          "execution_count": 2
        }
      ]
    },
    {
      "cell_type": "code",
      "metadata": {
        "id": "t0sj12ptIRg6",
        "colab": {
          "base_uri": "https://localhost:8080/"
        },
        "outputId": "2333234e-d45e-4ac1-ad56-6e451d6e65eb"
      },
      "source": [
        "torch.FloatTensor([4.]).dtype"
      ],
      "execution_count": null,
      "outputs": [
        {
          "output_type": "execute_result",
          "data": {
            "text/plain": [
              "torch.float32"
            ]
          },
          "metadata": {
            "tags": []
          },
          "execution_count": 3
        }
      ]
    },
    {
      "cell_type": "code",
      "metadata": {
        "id": "3oTjxbVi1pHr",
        "colab": {
          "base_uri": "https://localhost:8080/"
        },
        "outputId": "4418f75a-c268-425a-bfbe-20480936d4c6"
      },
      "source": [
        "t1.dtype\n"
      ],
      "execution_count": null,
      "outputs": [
        {
          "output_type": "execute_result",
          "data": {
            "text/plain": [
              "torch.float32"
            ]
          },
          "metadata": {
            "tags": []
          },
          "execution_count": 4
        }
      ]
    },
    {
      "cell_type": "code",
      "metadata": {
        "id": "vvJC6RuG1pMT",
        "colab": {
          "base_uri": "https://localhost:8080/"
        },
        "outputId": "1949193a-3165-45a1-bc0f-1e14fb9cc174"
      },
      "source": [
        "# Vector\n",
        "t2 = torch.tensor([1., 2, 3, 4])\n",
        "t2"
      ],
      "execution_count": null,
      "outputs": [
        {
          "output_type": "execute_result",
          "data": {
            "text/plain": [
              "tensor([1., 2., 3., 4.])"
            ]
          },
          "metadata": {
            "tags": []
          },
          "execution_count": 5
        }
      ]
    },
    {
      "cell_type": "code",
      "metadata": {
        "id": "9dnqjxkb1pRB",
        "colab": {
          "base_uri": "https://localhost:8080/"
        },
        "outputId": "c1a691c3-5b0f-4686-8d35-8a134bc742e8"
      },
      "source": [
        "# Matrix\n",
        "t3 = torch.tensor([[5., 6], \n",
        "                   [7, 8], \n",
        "                   [9, 10]])\n",
        "t3"
      ],
      "execution_count": null,
      "outputs": [
        {
          "output_type": "execute_result",
          "data": {
            "text/plain": [
              "tensor([[ 5.,  6.],\n",
              "        [ 7.,  8.],\n",
              "        [ 9., 10.]])"
            ]
          },
          "metadata": {
            "tags": []
          },
          "execution_count": 6
        }
      ]
    },
    {
      "cell_type": "code",
      "metadata": {
        "id": "a1XeOqAz1pUy",
        "colab": {
          "base_uri": "https://localhost:8080/"
        },
        "outputId": "f62c5291-7fdb-4f86-fb4c-dcee9ee59d39"
      },
      "source": [
        "# 3-dimensional array\n",
        "t4 = torch.tensor([\n",
        "    [[11, 12, 13], \n",
        "     [13, 14, 15]], \n",
        "    [[15, 16, 17], \n",
        "     [17, 18, 19.]]])\n",
        "t4"
      ],
      "execution_count": null,
      "outputs": [
        {
          "output_type": "execute_result",
          "data": {
            "text/plain": [
              "tensor([[[11., 12., 13.],\n",
              "         [13., 14., 15.]],\n",
              "\n",
              "        [[15., 16., 17.],\n",
              "         [17., 18., 19.]]])"
            ]
          },
          "metadata": {
            "tags": []
          },
          "execution_count": 7
        }
      ]
    },
    {
      "cell_type": "code",
      "metadata": {
        "id": "f5L_HKMZ1pYa",
        "colab": {
          "base_uri": "https://localhost:8080/"
        },
        "outputId": "6cf7063d-7a63-476c-8fad-e50b370adf50"
      },
      "source": [
        "print(t1)\n",
        "t1.shape"
      ],
      "execution_count": null,
      "outputs": [
        {
          "output_type": "stream",
          "text": [
            "tensor(4.)\n"
          ],
          "name": "stdout"
        },
        {
          "output_type": "execute_result",
          "data": {
            "text/plain": [
              "torch.Size([])"
            ]
          },
          "metadata": {
            "tags": []
          },
          "execution_count": 8
        }
      ]
    },
    {
      "cell_type": "code",
      "metadata": {
        "id": "yHO1KUFW1pch",
        "colab": {
          "base_uri": "https://localhost:8080/"
        },
        "outputId": "b3e760bf-8ce0-4ef3-bb24-3b8f431054a4"
      },
      "source": [
        "print(t2)\n",
        "t2.shape"
      ],
      "execution_count": null,
      "outputs": [
        {
          "output_type": "stream",
          "text": [
            "tensor([1., 2., 3., 4.])\n"
          ],
          "name": "stdout"
        },
        {
          "output_type": "execute_result",
          "data": {
            "text/plain": [
              "torch.Size([4])"
            ]
          },
          "metadata": {
            "tags": []
          },
          "execution_count": 9
        }
      ]
    },
    {
      "cell_type": "code",
      "metadata": {
        "id": "1ijFftrP1_B7",
        "colab": {
          "base_uri": "https://localhost:8080/"
        },
        "outputId": "7fcb1e49-6f4d-41e6-bb74-5eb83c156127"
      },
      "source": [
        "print(t3)\n",
        "t3.shape"
      ],
      "execution_count": null,
      "outputs": [
        {
          "output_type": "stream",
          "text": [
            "tensor([[ 5.,  6.],\n",
            "        [ 7.,  8.],\n",
            "        [ 9., 10.]])\n"
          ],
          "name": "stdout"
        },
        {
          "output_type": "execute_result",
          "data": {
            "text/plain": [
              "torch.Size([3, 2])"
            ]
          },
          "metadata": {
            "tags": []
          },
          "execution_count": 10
        }
      ]
    },
    {
      "cell_type": "code",
      "metadata": {
        "id": "fKEYScrL2Bj8",
        "colab": {
          "base_uri": "https://localhost:8080/"
        },
        "outputId": "5d4f376a-0df8-4dfc-8f2a-d5b67a627066"
      },
      "source": [
        "print(t4)\n",
        "t4.shape"
      ],
      "execution_count": null,
      "outputs": [
        {
          "output_type": "stream",
          "text": [
            "tensor([[[11., 12., 13.],\n",
            "         [13., 14., 15.]],\n",
            "\n",
            "        [[15., 16., 17.],\n",
            "         [17., 18., 19.]]])\n"
          ],
          "name": "stdout"
        },
        {
          "output_type": "execute_result",
          "data": {
            "text/plain": [
              "torch.Size([2, 2, 3])"
            ]
          },
          "metadata": {
            "tags": []
          },
          "execution_count": 11
        }
      ]
    },
    {
      "cell_type": "markdown",
      "metadata": {
        "id": "c5xQqt1H2KAA"
      },
      "source": [
        "## Тензорные операции и градиенты"
      ]
    },
    {
      "cell_type": "code",
      "metadata": {
        "id": "8dn5M1U12EPw",
        "colab": {
          "base_uri": "https://localhost:8080/"
        },
        "outputId": "00cee532-88b0-4b5b-b520-7bed1d0438f9"
      },
      "source": [
        "# Create tensors.\n",
        "x = torch.tensor(3.)\n",
        "w = torch.tensor(4., requires_grad=True)\n",
        "b = torch.tensor(5., requires_grad=True)\n",
        "x, w, b"
      ],
      "execution_count": null,
      "outputs": [
        {
          "output_type": "execute_result",
          "data": {
            "text/plain": [
              "(tensor(3.), tensor(4., requires_grad=True), tensor(5., requires_grad=True))"
            ]
          },
          "metadata": {
            "tags": []
          },
          "execution_count": 12
        }
      ]
    },
    {
      "cell_type": "code",
      "metadata": {
        "id": "Zq-8S8S12JIV",
        "colab": {
          "base_uri": "https://localhost:8080/"
        },
        "outputId": "17ca8f07-feb7-4ae1-a4f3-24046468b1ec"
      },
      "source": [
        "# Arithmetic operations\n",
        "y = w * x + b\n",
        "y"
      ],
      "execution_count": null,
      "outputs": [
        {
          "output_type": "execute_result",
          "data": {
            "text/plain": [
              "tensor(17., grad_fn=<AddBackward0>)"
            ]
          },
          "metadata": {
            "tags": []
          },
          "execution_count": 13
        }
      ]
    },
    {
      "cell_type": "code",
      "metadata": {
        "id": "gfJBrk672JLi"
      },
      "source": [
        "# Compute derivatives\n",
        "y.backward()"
      ],
      "execution_count": null,
      "outputs": []
    },
    {
      "cell_type": "code",
      "metadata": {
        "id": "TyViw2GE2JQ5",
        "colab": {
          "base_uri": "https://localhost:8080/"
        },
        "outputId": "2e188369-b3ea-470a-df0e-b1a76c616038"
      },
      "source": [
        "# Display gradients\n",
        "print('dy/dx:', x.grad)\n",
        "print('dy/dw:', w.grad)\n",
        "print('dy/db:', b.grad)"
      ],
      "execution_count": null,
      "outputs": [
        {
          "output_type": "stream",
          "text": [
            "dy/dx: None\n",
            "dy/dw: tensor(3.)\n",
            "dy/db: tensor(1.)\n"
          ],
          "name": "stdout"
        }
      ]
    },
    {
      "cell_type": "markdown",
      "metadata": {
        "id": "OIMyEBcB2hbi"
      },
      "source": [
        "## Взаимосвязь с Numpy"
      ]
    },
    {
      "cell_type": "code",
      "metadata": {
        "id": "4LVl5XdlJnNg"
      },
      "source": [
        "xx = torch.tensor([1.0, 2.0], requires_grad=True)"
      ],
      "execution_count": null,
      "outputs": []
    },
    {
      "cell_type": "code",
      "metadata": {
        "id": "PdYAcDoYJtoI",
        "colab": {
          "base_uri": "https://localhost:8080/",
          "height": 168
        },
        "outputId": "1f768372-8fdc-4451-9b54-e202d72b76df"
      },
      "source": [
        "xx.numpy()"
      ],
      "execution_count": null,
      "outputs": [
        {
          "output_type": "error",
          "ename": "RuntimeError",
          "evalue": "ignored",
          "traceback": [
            "\u001b[0;31m---------------------------------------------------------------------------\u001b[0m",
            "\u001b[0;31mRuntimeError\u001b[0m                              Traceback (most recent call last)",
            "\u001b[0;32m<ipython-input-17-7c52a2a063a5>\u001b[0m in \u001b[0;36m<module>\u001b[0;34m()\u001b[0m\n\u001b[0;32m----> 1\u001b[0;31m \u001b[0mxx\u001b[0m\u001b[0;34m.\u001b[0m\u001b[0mnumpy\u001b[0m\u001b[0;34m(\u001b[0m\u001b[0;34m)\u001b[0m\u001b[0;34m\u001b[0m\u001b[0;34m\u001b[0m\u001b[0m\n\u001b[0m",
            "\u001b[0;31mRuntimeError\u001b[0m: Can't call numpy() on Tensor that requires grad. Use tensor.detach().numpy() instead."
          ]
        }
      ]
    },
    {
      "cell_type": "code",
      "metadata": {
        "id": "jBb2h5G32JPD",
        "colab": {
          "base_uri": "https://localhost:8080/"
        },
        "outputId": "1c4ed260-3752-4098-f181-fd93a446280f"
      },
      "source": [
        "import numpy as np\n",
        "\n",
        "x = np.array([[1, 2], [3, 4.]])\n",
        "x"
      ],
      "execution_count": null,
      "outputs": [
        {
          "output_type": "execute_result",
          "data": {
            "text/plain": [
              "array([[1., 2.],\n",
              "       [3., 4.]])"
            ]
          },
          "metadata": {
            "tags": []
          },
          "execution_count": 18
        }
      ]
    },
    {
      "cell_type": "code",
      "metadata": {
        "id": "O7wDzc_72bKq",
        "colab": {
          "base_uri": "https://localhost:8080/"
        },
        "outputId": "f6fe4662-b73e-4dd9-b989-1fa13848f659"
      },
      "source": [
        "# Convert the numpy array to a torch tensor.\n",
        "y = torch.from_numpy(x)\n",
        "y"
      ],
      "execution_count": null,
      "outputs": [
        {
          "output_type": "execute_result",
          "data": {
            "text/plain": [
              "tensor([[1., 2.],\n",
              "        [3., 4.]], dtype=torch.float64)"
            ]
          },
          "metadata": {
            "tags": []
          },
          "execution_count": 19
        }
      ]
    },
    {
      "cell_type": "code",
      "metadata": {
        "id": "_Zh7ZhzV2eJ3",
        "colab": {
          "base_uri": "https://localhost:8080/"
        },
        "outputId": "9bb34e15-c1e5-4ab4-f0c3-91cfed55fe05"
      },
      "source": [
        "x.dtype, y.dtype\n"
      ],
      "execution_count": null,
      "outputs": [
        {
          "output_type": "execute_result",
          "data": {
            "text/plain": [
              "(dtype('float64'), torch.float64)"
            ]
          },
          "metadata": {
            "tags": []
          },
          "execution_count": 20
        }
      ]
    },
    {
      "cell_type": "code",
      "metadata": {
        "id": "ZAyGtORs2vUy",
        "colab": {
          "base_uri": "https://localhost:8080/"
        },
        "outputId": "d4718ffb-1e20-42d0-f6a1-7fc39eacf5cc"
      },
      "source": [
        "# Convert a torch tensor to a numpy array\n",
        "z = y.numpy()\n",
        "z"
      ],
      "execution_count": null,
      "outputs": [
        {
          "output_type": "execute_result",
          "data": {
            "text/plain": [
              "array([[1., 2.],\n",
              "       [3., 4.]])"
            ]
          },
          "metadata": {
            "tags": []
          },
          "execution_count": 21
        }
      ]
    },
    {
      "cell_type": "markdown",
      "metadata": {
        "id": "QgTJGzSN3Gvw"
      },
      "source": [
        "# Часть 2. Линейная регрессия"
      ]
    },
    {
      "cell_type": "code",
      "metadata": {
        "id": "pSItwjRI2vZj"
      },
      "source": [
        "import numpy as np\n",
        "import torch"
      ],
      "execution_count": null,
      "outputs": []
    },
    {
      "cell_type": "markdown",
      "metadata": {
        "id": "Ebb4yORK3V98"
      },
      "source": [
        "## Training data"
      ]
    },
    {
      "cell_type": "markdown",
      "metadata": {
        "id": "Tbec40O83oel"
      },
      "source": [
        "<img src=\"https://i.imgur.com/6Ujttb4.png\">\n",
        "\n",
        "$$yieldapple  = w11 * temp + w12 * rainfall + w13 * humidity + b1$$\n",
        "\n",
        "$$yieldorange = w21 * temp + w22 * rainfall + w23 * humidity + b2$$\n",
        "\n",
        "<img src=\"https://i.imgur.com/4DJ9f8X.png\">"
      ]
    },
    {
      "cell_type": "code",
      "metadata": {
        "id": "CEl_x_SA2vln"
      },
      "source": [
        "# Input (temp, rainfall, humidity)\n",
        "inputs = np.array([[73, 67, 43], \n",
        "                   [91, 88, 64], \n",
        "                   [87, 134, 58], \n",
        "                   [102, 43, 37], \n",
        "                   [69, 96, 70]], dtype='float32')"
      ],
      "execution_count": null,
      "outputs": []
    },
    {
      "cell_type": "code",
      "metadata": {
        "id": "Fr-I-OVb2vt-"
      },
      "source": [
        "# Targets (apples, oranges)\n",
        "targets = np.array([[56, 70], \n",
        "                    [81, 101], \n",
        "                    [119, 133], \n",
        "                    [22, 37], \n",
        "                    [103, 119]], dtype='float32')"
      ],
      "execution_count": null,
      "outputs": []
    },
    {
      "cell_type": "code",
      "metadata": {
        "id": "lNWXA9WR2vsR",
        "colab": {
          "base_uri": "https://localhost:8080/"
        },
        "outputId": "dfbbfeed-d8fb-477a-813c-bba078813a63"
      },
      "source": [
        "# Convert inputs and targets to tensors\n",
        "inputs = torch.from_numpy(inputs)\n",
        "targets = torch.from_numpy(targets)\n",
        "print(inputs)\n",
        "print(targets)"
      ],
      "execution_count": null,
      "outputs": [
        {
          "output_type": "stream",
          "text": [
            "tensor([[ 73.,  67.,  43.],\n",
            "        [ 91.,  88.,  64.],\n",
            "        [ 87., 134.,  58.],\n",
            "        [102.,  43.,  37.],\n",
            "        [ 69.,  96.,  70.]])\n",
            "tensor([[ 56.,  70.],\n",
            "        [ 81., 101.],\n",
            "        [119., 133.],\n",
            "        [ 22.,  37.],\n",
            "        [103., 119.]])\n"
          ],
          "name": "stdout"
        }
      ]
    },
    {
      "cell_type": "markdown",
      "metadata": {
        "id": "riSWB6OJ4b2G"
      },
      "source": [
        "## Модель линейной регрессии"
      ]
    },
    {
      "cell_type": "code",
      "metadata": {
        "id": "NyMOplKa4bNF",
        "colab": {
          "base_uri": "https://localhost:8080/"
        },
        "outputId": "b5486192-a228-46fe-90fc-7e0556ba6bcf"
      },
      "source": [
        "# Weights and biases\n",
        "w = torch.randn(2, 3, requires_grad=True)\n",
        "b = torch.randn(2, requires_grad=True)\n",
        "print(w)\n",
        "print(b)"
      ],
      "execution_count": null,
      "outputs": [
        {
          "output_type": "stream",
          "text": [
            "tensor([[-1.0374, -1.4705,  0.0714],\n",
            "        [-1.2951,  0.5760, -1.0058]], requires_grad=True)\n",
            "tensor([-1.0184,  0.1981], requires_grad=True)\n"
          ],
          "name": "stdout"
        }
      ]
    },
    {
      "cell_type": "markdown",
      "metadata": {
        "id": "-tAo4FJi4p8n"
      },
      "source": [
        "<img src=\"https://i.imgur.com/WGXLFvA.png\">"
      ]
    },
    {
      "cell_type": "code",
      "metadata": {
        "id": "9CUJGhTd2vqV"
      },
      "source": [
        "def model(x):\n",
        "    return x @ w.t() + b"
      ],
      "execution_count": null,
      "outputs": []
    },
    {
      "cell_type": "code",
      "metadata": {
        "id": "cbgClzqi2vjJ",
        "colab": {
          "base_uri": "https://localhost:8080/"
        },
        "outputId": "fdb6b948-e29e-4062-add5-ea2b8bd9e502"
      },
      "source": [
        "# Generate predictions\n",
        "preds = model(inputs)\n",
        "print(preds)"
      ],
      "execution_count": null,
      "outputs": [
        {
          "output_type": "stream",
          "text": [
            "tensor([[-172.2049,  -99.0039],\n",
            "        [-220.2597, -131.3423],\n",
            "        [-284.1838,  -93.6329],\n",
            "        [-167.4257, -144.3498],\n",
            "        [-208.7721, -104.2774]], grad_fn=<AddBackward0>)\n"
          ],
          "name": "stdout"
        }
      ]
    },
    {
      "cell_type": "code",
      "metadata": {
        "id": "kdy2Bt1E2vgx",
        "colab": {
          "base_uri": "https://localhost:8080/"
        },
        "outputId": "ac0c033b-8ad4-4e07-9dee-27bfb02f6b13"
      },
      "source": [
        "# Compare with targets\n",
        "print(targets)"
      ],
      "execution_count": null,
      "outputs": [
        {
          "output_type": "stream",
          "text": [
            "tensor([[ 56.,  70.],\n",
            "        [ 81., 101.],\n",
            "        [119., 133.],\n",
            "        [ 22.,  37.],\n",
            "        [103., 119.]])\n"
          ],
          "name": "stdout"
        }
      ]
    },
    {
      "cell_type": "code",
      "metadata": {
        "id": "5cHeOo8X2vfH"
      },
      "source": [
        ""
      ],
      "execution_count": null,
      "outputs": []
    },
    {
      "cell_type": "markdown",
      "metadata": {
        "id": "SuNsJh8x44wx"
      },
      "source": [
        "## Loss function\n"
      ]
    },
    {
      "cell_type": "code",
      "metadata": {
        "id": "stFs9unI2vdR"
      },
      "source": [
        "# MSE loss\n",
        "def mse(t1, t2):\n",
        "    diff = t1 - t2\n",
        "    return torch.sum(diff * diff) / diff.numel()"
      ],
      "execution_count": null,
      "outputs": []
    },
    {
      "cell_type": "code",
      "metadata": {
        "id": "alKFFxK62vXg",
        "colab": {
          "base_uri": "https://localhost:8080/"
        },
        "outputId": "50be7724-9f41-41b9-b324-5f75a3deb9e9"
      },
      "source": [
        "# Compute loss\n",
        "loss = mse(preds, targets)\n",
        "print(loss)"
      ],
      "execution_count": null,
      "outputs": [
        {
          "output_type": "stream",
          "text": [
            "tensor(65512.4258, grad_fn=<DivBackward0>)\n"
          ],
          "name": "stdout"
        }
      ]
    },
    {
      "cell_type": "markdown",
      "metadata": {
        "id": "rsh3-eeI5Bye"
      },
      "source": [
        "## Градиенты"
      ]
    },
    {
      "cell_type": "code",
      "metadata": {
        "id": "jzph3HsB49e8"
      },
      "source": [
        "# Compute gradients\n",
        "loss.backward()"
      ],
      "execution_count": null,
      "outputs": []
    },
    {
      "cell_type": "code",
      "metadata": {
        "id": "K1hxzLGW5Dn1",
        "colab": {
          "base_uri": "https://localhost:8080/"
        },
        "outputId": "22380dc4-49c2-4abf-b4ae-6d7397cb4fac"
      },
      "source": [
        "# Gradients for weights\n",
        "print(w)\n",
        "print(w.grad)"
      ],
      "execution_count": null,
      "outputs": [
        {
          "output_type": "stream",
          "text": [
            "tensor([[-1.0374, -1.4705,  0.0714],\n",
            "        [-1.2951,  0.5760, -1.0058]], requires_grad=True)\n",
            "tensor([[-23996.8555, -26780.5273, -16262.1797],\n",
            "        [-17420.2617, -18274.1719, -11524.2285]])\n"
          ],
          "name": "stdout"
        }
      ]
    },
    {
      "cell_type": "code",
      "metadata": {
        "id": "HTiB5bJ05FvB",
        "colab": {
          "base_uri": "https://localhost:8080/"
        },
        "outputId": "4d5ce102-15ec-443c-b0b6-eb8082620f17"
      },
      "source": [
        "w.grad.zero_()\n",
        "b.grad.zero_()\n",
        "print(w.grad)\n",
        "print(b.grad)"
      ],
      "execution_count": null,
      "outputs": [
        {
          "output_type": "stream",
          "text": [
            "tensor([[0., 0., 0.],\n",
            "        [0., 0., 0.]])\n",
            "tensor([0., 0.])\n"
          ],
          "name": "stdout"
        }
      ]
    },
    {
      "cell_type": "code",
      "metadata": {
        "id": "hbOKAouR5KT3"
      },
      "source": [
        ""
      ],
      "execution_count": null,
      "outputs": []
    },
    {
      "cell_type": "markdown",
      "metadata": {
        "id": "pldtQ3qV5Nyo"
      },
      "source": [
        "## Обновление весов во время градиентного спуска"
      ]
    },
    {
      "cell_type": "code",
      "metadata": {
        "id": "taZFVi4H5RZs",
        "colab": {
          "base_uri": "https://localhost:8080/"
        },
        "outputId": "0e312af0-0c4d-4cb9-c164-abe13d55f7d7"
      },
      "source": [
        "# Generate predictions\n",
        "preds = model(inputs)\n",
        "print(preds)"
      ],
      "execution_count": null,
      "outputs": [
        {
          "output_type": "stream",
          "text": [
            "tensor([[-172.2049,  -99.0039],\n",
            "        [-220.2597, -131.3423],\n",
            "        [-284.1838,  -93.6329],\n",
            "        [-167.4257, -144.3498],\n",
            "        [-208.7721, -104.2774]], grad_fn=<AddBackward0>)\n"
          ],
          "name": "stdout"
        }
      ]
    },
    {
      "cell_type": "code",
      "metadata": {
        "id": "tRS4M7es5UE9",
        "colab": {
          "base_uri": "https://localhost:8080/"
        },
        "outputId": "ccddc634-9d7c-45f1-8f32-095923a3faf5"
      },
      "source": [
        "# Calculate the loss\n",
        "loss = mse(preds, targets)\n",
        "print(loss)"
      ],
      "execution_count": null,
      "outputs": [
        {
          "output_type": "stream",
          "text": [
            "tensor(65512.4258, grad_fn=<DivBackward0>)\n"
          ],
          "name": "stdout"
        }
      ]
    },
    {
      "cell_type": "code",
      "metadata": {
        "id": "7_87zu685WI3",
        "colab": {
          "base_uri": "https://localhost:8080/"
        },
        "outputId": "ec7ec187-0974-4871-f6d0-95c755c196c5"
      },
      "source": [
        "# Compute gradients\n",
        "loss.backward()\n",
        "print(w.grad)\n",
        "print(b.grad)"
      ],
      "execution_count": null,
      "outputs": [
        {
          "output_type": "stream",
          "text": [
            "tensor([[-23996.8555, -26780.5273, -16262.1797],\n",
            "        [-17420.2617, -18274.1719, -11524.2285]])\n",
            "tensor([-286.7692, -206.5213])\n"
          ],
          "name": "stdout"
        }
      ]
    },
    {
      "cell_type": "code",
      "metadata": {
        "id": "kKTzrrSt5Ywq"
      },
      "source": [
        "# Adjust weights & reset gradients\n",
        "with torch.no_grad():\n",
        "    w -= w.grad * 1e-5\n",
        "    b -= b.grad * 1e-5\n",
        "    w.grad.zero_()\n",
        "    b.grad.zero_()"
      ],
      "execution_count": null,
      "outputs": []
    },
    {
      "cell_type": "code",
      "metadata": {
        "id": "GUz5DbbH5ca1",
        "colab": {
          "base_uri": "https://localhost:8080/"
        },
        "outputId": "99bdb6ef-26e9-41af-98f5-82f8b231382e"
      },
      "source": [
        "print(w)\n",
        "print(b)"
      ],
      "execution_count": null,
      "outputs": [
        {
          "output_type": "stream",
          "text": [
            "tensor([[-0.7975, -1.2027,  0.2341],\n",
            "        [-1.1209,  0.7587, -0.8906]], requires_grad=True)\n",
            "tensor([-1.0155,  0.2002], requires_grad=True)\n"
          ],
          "name": "stdout"
        }
      ]
    },
    {
      "cell_type": "code",
      "metadata": {
        "id": "BCERs01y5fZX",
        "colab": {
          "base_uri": "https://localhost:8080/"
        },
        "outputId": "de3eb489-695e-4e6a-9e73-d3a64d73c3a6"
      },
      "source": [
        "# Calculate loss\n",
        "preds = model(inputs)\n",
        "loss = mse(preds, targets)\n",
        "print(loss)"
      ],
      "execution_count": null,
      "outputs": [
        {
          "output_type": "stream",
          "text": [
            "tensor(44317.9805, grad_fn=<DivBackward0>)\n"
          ],
          "name": "stdout"
        }
      ]
    },
    {
      "cell_type": "code",
      "metadata": {
        "id": "1OS_JZFm5h4w"
      },
      "source": [
        ""
      ],
      "execution_count": null,
      "outputs": []
    },
    {
      "cell_type": "markdown",
      "metadata": {
        "id": "FWJo67605lex"
      },
      "source": [
        "# Несколько эпох"
      ]
    },
    {
      "cell_type": "code",
      "metadata": {
        "id": "XAsJ4N1f5m88"
      },
      "source": [
        "# Train for 100 epochs\n",
        "for i in range(100):\n",
        "    preds = model(inputs)\n",
        "    loss = mse(preds, targets)\n",
        "    loss.backward()\n",
        "    with torch.no_grad():\n",
        "        w -= w.grad * 1e-5\n",
        "        b -= b.grad * 1e-5\n",
        "        w.grad.zero_()\n",
        "        b.grad.zero_()"
      ],
      "execution_count": null,
      "outputs": []
    },
    {
      "cell_type": "code",
      "metadata": {
        "id": "U-3veeVP5nd0",
        "colab": {
          "base_uri": "https://localhost:8080/"
        },
        "outputId": "b6a98cfe-3790-4adf-e873-2b95fead3295"
      },
      "source": [
        "# Calculate loss\n",
        "preds = model(inputs)\n",
        "loss = mse(preds, targets)\n",
        "print(loss)"
      ],
      "execution_count": null,
      "outputs": [
        {
          "output_type": "stream",
          "text": [
            "tensor(207.6109, grad_fn=<DivBackward0>)\n"
          ],
          "name": "stdout"
        }
      ]
    },
    {
      "cell_type": "code",
      "metadata": {
        "id": "EIYqan5B5qo3",
        "colab": {
          "base_uri": "https://localhost:8080/"
        },
        "outputId": "cb9c4f9d-9677-413a-885c-b1959ea5f511"
      },
      "source": [
        "# Predictions\n",
        "preds"
      ],
      "execution_count": null,
      "outputs": [
        {
          "output_type": "execute_result",
          "data": {
            "text/plain": [
              "tensor([[ 61.1641,  69.5224],\n",
              "        [ 88.2797,  90.2114],\n",
              "        [ 98.4497, 158.0104],\n",
              "        [ 45.6408,  31.2378],\n",
              "        [ 97.9549, 104.3560]], grad_fn=<AddBackward0>)"
            ]
          },
          "metadata": {
            "tags": []
          },
          "execution_count": 43
        }
      ]
    },
    {
      "cell_type": "code",
      "metadata": {
        "id": "ME6p3NaI5sez",
        "colab": {
          "base_uri": "https://localhost:8080/"
        },
        "outputId": "a38f4750-47ea-4884-a9c1-9c51b99a8484"
      },
      "source": [
        "# Targets\n",
        "targets"
      ],
      "execution_count": null,
      "outputs": [
        {
          "output_type": "execute_result",
          "data": {
            "text/plain": [
              "tensor([[ 56.,  70.],\n",
              "        [ 81., 101.],\n",
              "        [119., 133.],\n",
              "        [ 22.,  37.],\n",
              "        [103., 119.]])"
            ]
          },
          "metadata": {
            "tags": []
          },
          "execution_count": 44
        }
      ]
    },
    {
      "cell_type": "code",
      "metadata": {
        "id": "U5ltElJq5u6K"
      },
      "source": [
        ""
      ],
      "execution_count": null,
      "outputs": []
    },
    {
      "cell_type": "markdown",
      "metadata": {
        "id": "L-QFRERX5zqS"
      },
      "source": [
        "## Второй способ"
      ]
    },
    {
      "cell_type": "code",
      "metadata": {
        "id": "8IlzI73l51Hl"
      },
      "source": [
        "import torch.nn as nn\n"
      ],
      "execution_count": null,
      "outputs": []
    },
    {
      "cell_type": "code",
      "metadata": {
        "id": "OWDus9P3527c"
      },
      "source": [
        "# Input (temp, rainfall, humidity)\n",
        "inputs = np.array([[73, 67, 43], [91, 88, 64], [87, 134, 58], \n",
        "                   [102, 43, 37], [69, 96, 70], [73, 67, 43], \n",
        "                   [91, 88, 64], [87, 134, 58], [102, 43, 37], \n",
        "                   [69, 96, 70], [73, 67, 43], [91, 88, 64], \n",
        "                   [87, 134, 58], [102, 43, 37], [69, 96, 70]], \n",
        "                  dtype='float32')\n",
        "\n",
        "# Targets (apples, oranges)\n",
        "targets = np.array([[56, 70], [81, 101], [119, 133], \n",
        "                    [22, 37], [103, 119], [56, 70], \n",
        "                    [81, 101], [119, 133], [22, 37], \n",
        "                    [103, 119], [56, 70], [81, 101], \n",
        "                    [119, 133], [22, 37], [103, 119]], \n",
        "                   dtype='float32')\n",
        "\n",
        "inputs = torch.from_numpy(inputs)\n",
        "targets = torch.from_numpy(targets)"
      ],
      "execution_count": null,
      "outputs": []
    },
    {
      "cell_type": "code",
      "metadata": {
        "id": "LhfvXwc1543h",
        "colab": {
          "base_uri": "https://localhost:8080/"
        },
        "outputId": "48503577-ed07-40e3-a32c-92fb03c98d1b"
      },
      "source": [
        "inputs"
      ],
      "execution_count": null,
      "outputs": [
        {
          "output_type": "execute_result",
          "data": {
            "text/plain": [
              "tensor([[ 73.,  67.,  43.],\n",
              "        [ 91.,  88.,  64.],\n",
              "        [ 87., 134.,  58.],\n",
              "        [102.,  43.,  37.],\n",
              "        [ 69.,  96.,  70.],\n",
              "        [ 73.,  67.,  43.],\n",
              "        [ 91.,  88.,  64.],\n",
              "        [ 87., 134.,  58.],\n",
              "        [102.,  43.,  37.],\n",
              "        [ 69.,  96.,  70.],\n",
              "        [ 73.,  67.,  43.],\n",
              "        [ 91.,  88.,  64.],\n",
              "        [ 87., 134.,  58.],\n",
              "        [102.,  43.,  37.],\n",
              "        [ 69.,  96.,  70.]])"
            ]
          },
          "metadata": {
            "tags": []
          },
          "execution_count": 47
        }
      ]
    },
    {
      "cell_type": "code",
      "metadata": {
        "id": "Si9PCmqo57qf"
      },
      "source": [
        "from torch.utils.data import TensorDataset\n"
      ],
      "execution_count": null,
      "outputs": []
    },
    {
      "cell_type": "code",
      "metadata": {
        "id": "TXk8nxGz590T",
        "colab": {
          "base_uri": "https://localhost:8080/"
        },
        "outputId": "e5b224b7-9122-4150-9e34-1b9d5f61e39f"
      },
      "source": [
        "# Define dataset\n",
        "train_ds = TensorDataset(inputs, targets)\n",
        "train_ds[0:3]"
      ],
      "execution_count": null,
      "outputs": [
        {
          "output_type": "execute_result",
          "data": {
            "text/plain": [
              "(tensor([[ 73.,  67.,  43.],\n",
              "         [ 91.,  88.,  64.],\n",
              "         [ 87., 134.,  58.]]), tensor([[ 56.,  70.],\n",
              "         [ 81., 101.],\n",
              "         [119., 133.]]))"
            ]
          },
          "metadata": {
            "tags": []
          },
          "execution_count": 49
        }
      ]
    },
    {
      "cell_type": "code",
      "metadata": {
        "id": "iGjabpEI6AMc"
      },
      "source": [
        "from torch.utils.data import DataLoader\n"
      ],
      "execution_count": null,
      "outputs": []
    },
    {
      "cell_type": "code",
      "metadata": {
        "id": "86Xkqrjx6CFl"
      },
      "source": [
        "# Define data loader\n",
        "batch_size = 3\n",
        "train_dl = DataLoader(train_ds, batch_size, shuffle=True)\n"
      ],
      "execution_count": null,
      "outputs": []
    },
    {
      "cell_type": "code",
      "metadata": {
        "id": "lOHVbr2M6EZS",
        "colab": {
          "base_uri": "https://localhost:8080/"
        },
        "outputId": "3ca968c8-269a-486e-f1bb-4c9305f8cbe8"
      },
      "source": [
        "for xb, yb in train_dl:\n",
        "    print(xb)\n",
        "    print(yb)\n",
        "    break"
      ],
      "execution_count": null,
      "outputs": [
        {
          "output_type": "stream",
          "text": [
            "tensor([[ 69.,  96.,  70.],\n",
            "        [ 91.,  88.,  64.],\n",
            "        [102.,  43.,  37.]])\n",
            "tensor([[103., 119.],\n",
            "        [ 81., 101.],\n",
            "        [ 22.,  37.]])\n"
          ],
          "name": "stdout"
        }
      ]
    },
    {
      "cell_type": "code",
      "metadata": {
        "id": "pTW9o7KI6GX3",
        "colab": {
          "base_uri": "https://localhost:8080/"
        },
        "outputId": "207bde41-e6a5-4f45-b6cd-ac005eac02a4"
      },
      "source": [
        "# Define model\n",
        "model = nn.Linear(3, 2)\n",
        "print(model.weight)\n",
        "print(model.bias)"
      ],
      "execution_count": null,
      "outputs": [
        {
          "output_type": "stream",
          "text": [
            "Parameter containing:\n",
            "tensor([[ 0.4640,  0.4089, -0.0124],\n",
            "        [-0.0736, -0.1421, -0.0420]], requires_grad=True)\n",
            "Parameter containing:\n",
            "tensor([0.4266, 0.0861], requires_grad=True)\n"
          ],
          "name": "stdout"
        }
      ]
    },
    {
      "cell_type": "code",
      "metadata": {
        "id": "Al5dbckn6JU5",
        "colab": {
          "base_uri": "https://localhost:8080/"
        },
        "outputId": "85f2a333-a943-4cea-e4db-550ad81a416d"
      },
      "source": [
        "# Parameters\n",
        "list(model.parameters())"
      ],
      "execution_count": null,
      "outputs": [
        {
          "output_type": "execute_result",
          "data": {
            "text/plain": [
              "[Parameter containing:\n",
              " tensor([[ 0.4640,  0.4089, -0.0124],\n",
              "         [-0.0736, -0.1421, -0.0420]], requires_grad=True),\n",
              " Parameter containing:\n",
              " tensor([0.4266, 0.0861], requires_grad=True)]"
            ]
          },
          "metadata": {
            "tags": []
          },
          "execution_count": 54
        }
      ]
    },
    {
      "cell_type": "code",
      "metadata": {
        "id": "N0KYD6jo6Laa",
        "colab": {
          "base_uri": "https://localhost:8080/"
        },
        "outputId": "e353559c-6c0b-4bc8-a690-3b584f446e3f"
      },
      "source": [
        "# Generate predictions\n",
        "preds = model(inputs)\n",
        "preds"
      ],
      "execution_count": null,
      "outputs": [
        {
          "output_type": "execute_result",
          "data": {
            "text/plain": [
              "tensor([[ 61.1611, -16.6162],\n",
              "        [ 77.8394, -21.8078],\n",
              "        [ 94.8658, -27.7972],\n",
              "        [ 64.8789, -15.0896],\n",
              "        [ 70.8277, -21.5764],\n",
              "        [ 61.1611, -16.6162],\n",
              "        [ 77.8394, -21.8078],\n",
              "        [ 94.8658, -27.7972],\n",
              "        [ 64.8789, -15.0896],\n",
              "        [ 70.8277, -21.5764],\n",
              "        [ 61.1611, -16.6162],\n",
              "        [ 77.8394, -21.8078],\n",
              "        [ 94.8658, -27.7972],\n",
              "        [ 64.8789, -15.0896],\n",
              "        [ 70.8277, -21.5764]], grad_fn=<AddmmBackward>)"
            ]
          },
          "metadata": {
            "tags": []
          },
          "execution_count": 55
        }
      ]
    },
    {
      "cell_type": "code",
      "metadata": {
        "id": "esL71eqt6N2w"
      },
      "source": [
        "# Import nn.functional\n",
        "import torch.nn.functional as F"
      ],
      "execution_count": null,
      "outputs": []
    },
    {
      "cell_type": "code",
      "metadata": {
        "id": "fMlQfmYw6QDM"
      },
      "source": [
        "# Define loss function\n",
        "loss_fn = F.mse_loss"
      ],
      "execution_count": null,
      "outputs": []
    },
    {
      "cell_type": "code",
      "metadata": {
        "id": "BR48RqN96R0s",
        "colab": {
          "base_uri": "https://localhost:8080/"
        },
        "outputId": "ba17029d-9c7d-42be-f4d6-12fbe50dea35"
      },
      "source": [
        "loss = loss_fn(model(inputs), targets)\n",
        "print(loss)"
      ],
      "execution_count": null,
      "outputs": [
        {
          "output_type": "stream",
          "text": [
            "tensor(7440.7646, grad_fn=<MseLossBackward>)\n"
          ],
          "name": "stdout"
        }
      ]
    },
    {
      "cell_type": "code",
      "metadata": {
        "id": "pBtDXWN-6UO-"
      },
      "source": [
        "# Define optimizer\n",
        "opt = torch.optim.SGD(model.parameters(), lr=1e-5, momentum=0.99)"
      ],
      "execution_count": null,
      "outputs": []
    },
    {
      "cell_type": "code",
      "metadata": {
        "id": "4lGGZJuP6WR7"
      },
      "source": [
        "# Utility function to train the model\n",
        "def fit(num_epochs, model, loss_fn, opt, train_dl):\n",
        "    \n",
        "    # Repeat for given number of epochs\n",
        "    for epoch in range(num_epochs):\n",
        "        \n",
        "        # Train with batches of data\n",
        "        for xb,yb in train_dl:\n",
        "            \n",
        "            # 1. Generate predictions\n",
        "            pred = model(xb)\n",
        "            \n",
        "            # 2. Calculate loss\n",
        "            loss = loss_fn(pred, yb)\n",
        "            \n",
        "            # 3. Compute gradients\n",
        "            loss.backward()\n",
        "            \n",
        "            # 4. Update parameters using gradients\n",
        "            opt.step()\n",
        "            \n",
        "            # 5. Reset the gradients to zero\n",
        "            opt.zero_grad()\n",
        "        \n",
        "        # Print the progress\n",
        "        if (epoch+1) % 10 == 0:\n",
        "            print('Epoch [{}/{}], Loss: {:.4f}'.format(epoch+1, num_epochs, loss.item()))"
      ],
      "execution_count": null,
      "outputs": []
    },
    {
      "cell_type": "code",
      "metadata": {
        "id": "jmlKJ8eC6ZFx",
        "colab": {
          "base_uri": "https://localhost:8080/"
        },
        "outputId": "0e8061c1-7748-4caa-c091-56f9f7cc2f7d"
      },
      "source": [
        "fit(100, model, loss_fn, opt, train_dl)\n"
      ],
      "execution_count": null,
      "outputs": [
        {
          "output_type": "stream",
          "text": [
            "Epoch [10/100], Loss: 1251.1332\n",
            "Epoch [20/100], Loss: 74.3032\n",
            "Epoch [30/100], Loss: 927.9119\n",
            "Epoch [40/100], Loss: 721.0101\n",
            "Epoch [50/100], Loss: 1970.5438\n",
            "Epoch [60/100], Loss: 1272.7545\n",
            "Epoch [70/100], Loss: 1392.0267\n",
            "Epoch [80/100], Loss: 78.1770\n",
            "Epoch [90/100], Loss: 325.1425\n",
            "Epoch [100/100], Loss: 2020.3804\n"
          ],
          "name": "stdout"
        }
      ]
    },
    {
      "cell_type": "code",
      "metadata": {
        "id": "BqW3OnTt6bJL",
        "colab": {
          "base_uri": "https://localhost:8080/"
        },
        "outputId": "9588ee15-cc58-4715-8d77-30cd0715cda6"
      },
      "source": [
        "# Generate predictions\n",
        "preds = model(inputs)\n",
        "preds"
      ],
      "execution_count": null,
      "outputs": [
        {
          "output_type": "execute_result",
          "data": {
            "text/plain": [
              "tensor([[ 46.8083,  44.8630],\n",
              "        [ 68.0885,  65.0644],\n",
              "        [102.3793,  90.4348],\n",
              "        [ 11.4299,  17.7188],\n",
              "        [ 87.7834,  80.3718],\n",
              "        [ 46.8083,  44.8630],\n",
              "        [ 68.0885,  65.0644],\n",
              "        [102.3793,  90.4348],\n",
              "        [ 11.4299,  17.7188],\n",
              "        [ 87.7834,  80.3718],\n",
              "        [ 46.8083,  44.8630],\n",
              "        [ 68.0885,  65.0644],\n",
              "        [102.3793,  90.4348],\n",
              "        [ 11.4299,  17.7188],\n",
              "        [ 87.7834,  80.3718]], grad_fn=<AddmmBackward>)"
            ]
          },
          "metadata": {
            "tags": []
          },
          "execution_count": 62
        }
      ]
    },
    {
      "cell_type": "markdown",
      "metadata": {
        "id": "fcgc59mA6pWt"
      },
      "source": [
        "## Часть 3. Классификация изображений MNIST"
      ]
    },
    {
      "cell_type": "code",
      "metadata": {
        "id": "xc0YyxsS6juN"
      },
      "source": [
        "# Imports\n",
        "import torch\n",
        "import torchvision\n",
        "from torchvision.datasets import MNIST"
      ],
      "execution_count": null,
      "outputs": []
    },
    {
      "cell_type": "code",
      "metadata": {
        "id": "VnRBQFHa6usP",
        "colab": {
          "base_uri": "https://localhost:8080/",
          "height": 825,
          "referenced_widgets": [
            "ab02619c78074200b0306183339544f1",
            "5eb60baf13634bc793f02835374ea9dc",
            "82017349551846f59eccaa41ea9b8a64",
            "9dfa532e2e894506a96fe3a17128df2f",
            "ce1bb14392df45b29eaa93c9ff8b9b5b",
            "d4371a05fe094499b919c6ac6c26a963",
            "65cd383ef6ee4ad595c4cdbe78000ff7",
            "117930439dc84f699ff487944da88cea",
            "8ac41549e5cf4ce28547a365c78fe870",
            "e02a6e48d14040bd9a48dba2bdab9d5d",
            "999ff21b97f244809e33ab716126fb20",
            "7dc4609c8d9c4c978aecae487a6fcfa0",
            "46858bb87797444f90f975607158a385",
            "e041b1bae403400c97f973b48a2ed213",
            "854b4b42b20b4b489ceedb3d995e7a26",
            "1e1391b810574a76b4e54de59237fc16",
            "78023e663fa0485cb550a2c5436cc440",
            "e5480faf0d814b8489a6544f37416a6e",
            "fdea14886b784cf58618fca57cb59964",
            "01cb0059ef8f40a39bd67627fb13644c",
            "9893b8545cf447baa62ec87b73d9b67c",
            "bb1163e812f34f4397a48f165698e939",
            "f02b4badf42d46b1a5eb54355a0aa8cc",
            "55156733532a468281682aefa1efc89e",
            "6ad2ca7daa5349eebbb9c1f8eede9c32",
            "3e9bf060fe6c42f2a6b562f98a73d829",
            "0985e7125def429ca918604b761dd371",
            "737aaae608ce4ed8afba0d8192d8d18b",
            "75ae7e51783640a4bbad2e6dd0819b9f",
            "a2ef98a1d55d4171965257477b25f72d",
            "9cb3c5f4f0104fd08134106e4ed433bf",
            "b907b12dd1f74c90b7ecbcf997e05abb"
          ]
        },
        "outputId": "041c5014-dcd0-4a77-d119-9b9e62b99ac6"
      },
      "source": [
        "# Download training dataset\n",
        "dataset = MNIST(root='data/', download=True)"
      ],
      "execution_count": null,
      "outputs": [
        {
          "output_type": "stream",
          "text": [
            "Downloading http://yann.lecun.com/exdb/mnist/train-images-idx3-ubyte.gz\n",
            "Failed to download (trying next):\n",
            "HTTP Error 503: Service Unavailable\n",
            "\n",
            "Downloading https://ossci-datasets.s3.amazonaws.com/mnist/train-images-idx3-ubyte.gz\n",
            "Downloading https://ossci-datasets.s3.amazonaws.com/mnist/train-images-idx3-ubyte.gz to data/MNIST/raw/train-images-idx3-ubyte.gz\n"
          ],
          "name": "stdout"
        },
        {
          "output_type": "display_data",
          "data": {
            "application/vnd.jupyter.widget-view+json": {
              "model_id": "ab02619c78074200b0306183339544f1",
              "version_minor": 0,
              "version_major": 2
            },
            "text/plain": [
              "HBox(children=(FloatProgress(value=0.0, max=9912422.0), HTML(value='')))"
            ]
          },
          "metadata": {
            "tags": []
          }
        },
        {
          "output_type": "stream",
          "text": [
            "\n",
            "Extracting data/MNIST/raw/train-images-idx3-ubyte.gz to data/MNIST/raw\n",
            "\n",
            "Downloading http://yann.lecun.com/exdb/mnist/train-labels-idx1-ubyte.gz\n",
            "Failed to download (trying next):\n",
            "HTTP Error 503: Service Unavailable\n",
            "\n",
            "Downloading https://ossci-datasets.s3.amazonaws.com/mnist/train-labels-idx1-ubyte.gz\n",
            "Downloading https://ossci-datasets.s3.amazonaws.com/mnist/train-labels-idx1-ubyte.gz to data/MNIST/raw/train-labels-idx1-ubyte.gz\n"
          ],
          "name": "stdout"
        },
        {
          "output_type": "display_data",
          "data": {
            "application/vnd.jupyter.widget-view+json": {
              "model_id": "8ac41549e5cf4ce28547a365c78fe870",
              "version_minor": 0,
              "version_major": 2
            },
            "text/plain": [
              "HBox(children=(FloatProgress(value=0.0, max=28881.0), HTML(value='')))"
            ]
          },
          "metadata": {
            "tags": []
          }
        },
        {
          "output_type": "stream",
          "text": [
            "\n",
            "Extracting data/MNIST/raw/train-labels-idx1-ubyte.gz to data/MNIST/raw\n",
            "\n",
            "Downloading http://yann.lecun.com/exdb/mnist/t10k-images-idx3-ubyte.gz\n",
            "Failed to download (trying next):\n",
            "HTTP Error 503: Service Unavailable\n",
            "\n",
            "Downloading https://ossci-datasets.s3.amazonaws.com/mnist/t10k-images-idx3-ubyte.gz\n",
            "Downloading https://ossci-datasets.s3.amazonaws.com/mnist/t10k-images-idx3-ubyte.gz to data/MNIST/raw/t10k-images-idx3-ubyte.gz\n"
          ],
          "name": "stdout"
        },
        {
          "output_type": "display_data",
          "data": {
            "application/vnd.jupyter.widget-view+json": {
              "model_id": "78023e663fa0485cb550a2c5436cc440",
              "version_minor": 0,
              "version_major": 2
            },
            "text/plain": [
              "HBox(children=(FloatProgress(value=0.0, max=1648877.0), HTML(value='')))"
            ]
          },
          "metadata": {
            "tags": []
          }
        },
        {
          "output_type": "stream",
          "text": [
            "\n",
            "Extracting data/MNIST/raw/t10k-images-idx3-ubyte.gz to data/MNIST/raw\n",
            "\n",
            "Downloading http://yann.lecun.com/exdb/mnist/t10k-labels-idx1-ubyte.gz\n",
            "Failed to download (trying next):\n",
            "HTTP Error 503: Service Unavailable\n",
            "\n",
            "Downloading https://ossci-datasets.s3.amazonaws.com/mnist/t10k-labels-idx1-ubyte.gz\n",
            "Downloading https://ossci-datasets.s3.amazonaws.com/mnist/t10k-labels-idx1-ubyte.gz to data/MNIST/raw/t10k-labels-idx1-ubyte.gz\n"
          ],
          "name": "stdout"
        },
        {
          "output_type": "display_data",
          "data": {
            "application/vnd.jupyter.widget-view+json": {
              "model_id": "6ad2ca7daa5349eebbb9c1f8eede9c32",
              "version_minor": 0,
              "version_major": 2
            },
            "text/plain": [
              "HBox(children=(FloatProgress(value=0.0, max=4542.0), HTML(value='')))"
            ]
          },
          "metadata": {
            "tags": []
          }
        },
        {
          "output_type": "stream",
          "text": [
            "\n",
            "Extracting data/MNIST/raw/t10k-labels-idx1-ubyte.gz to data/MNIST/raw\n",
            "\n"
          ],
          "name": "stdout"
        },
        {
          "output_type": "stream",
          "text": [
            "/usr/local/lib/python3.7/dist-packages/torchvision/datasets/mnist.py:498: UserWarning: The given NumPy array is not writeable, and PyTorch does not support non-writeable tensors. This means you can write to the underlying (supposedly non-writeable) NumPy array using the tensor. You may want to copy the array to protect its data or make it writeable before converting it to a tensor. This type of warning will be suppressed for the rest of this program. (Triggered internally at  /pytorch/torch/csrc/utils/tensor_numpy.cpp:180.)\n",
            "  return torch.from_numpy(parsed.astype(m[2], copy=False)).view(*s)\n"
          ],
          "name": "stderr"
        }
      ]
    },
    {
      "cell_type": "code",
      "metadata": {
        "id": "gBa57ku06uwz",
        "colab": {
          "base_uri": "https://localhost:8080/"
        },
        "outputId": "24cf6ba8-87d3-407b-861f-88dbe04f6e70"
      },
      "source": [
        "len(dataset)\n"
      ],
      "execution_count": null,
      "outputs": [
        {
          "output_type": "execute_result",
          "data": {
            "text/plain": [
              "60000"
            ]
          },
          "metadata": {
            "tags": []
          },
          "execution_count": 65
        }
      ]
    },
    {
      "cell_type": "code",
      "metadata": {
        "id": "XOh81r7p6vBB",
        "colab": {
          "base_uri": "https://localhost:8080/"
        },
        "outputId": "45ae7720-04b0-4b40-d29c-3132d9172b9a"
      },
      "source": [
        "test_dataset = MNIST(root='data/', train=False)\n",
        "len(test_dataset)"
      ],
      "execution_count": null,
      "outputs": [
        {
          "output_type": "execute_result",
          "data": {
            "text/plain": [
              "10000"
            ]
          },
          "metadata": {
            "tags": []
          },
          "execution_count": 66
        }
      ]
    },
    {
      "cell_type": "code",
      "metadata": {
        "id": "0McgkkdZ6u9l",
        "colab": {
          "base_uri": "https://localhost:8080/"
        },
        "outputId": "e28b329a-0d83-4267-c000-7856d7167f8d"
      },
      "source": [
        "dataset[0]\n"
      ],
      "execution_count": null,
      "outputs": [
        {
          "output_type": "execute_result",
          "data": {
            "text/plain": [
              "(<PIL.Image.Image image mode=L size=28x28 at 0x7F8B53A13150>, 5)"
            ]
          },
          "metadata": {
            "tags": []
          },
          "execution_count": 67
        }
      ]
    },
    {
      "cell_type": "code",
      "metadata": {
        "id": "N-JBxkMe6u6r"
      },
      "source": [
        "import matplotlib.pyplot as plt\n",
        "%matplotlib inline"
      ],
      "execution_count": null,
      "outputs": []
    },
    {
      "cell_type": "code",
      "metadata": {
        "id": "DeWgr_9l6u3c",
        "colab": {
          "base_uri": "https://localhost:8080/",
          "height": 282
        },
        "outputId": "8996970b-bff0-4c38-c056-bae4a59e04ed"
      },
      "source": [
        "image, label = dataset[0]\n",
        "plt.imshow(image, cmap='gray')\n",
        "print('Label:', label)"
      ],
      "execution_count": null,
      "outputs": [
        {
          "output_type": "stream",
          "text": [
            "Label: 5\n"
          ],
          "name": "stdout"
        },
        {
          "output_type": "display_data",
          "data": {
            "image/png": "[encoded data removed]",
            "text/plain": [
              "<Figure size 432x288 with 1 Axes>"
            ]
          },
          "metadata": {
            "tags": [],
            "needs_background": "light"
          }
        }
      ]
    },
    {
      "cell_type": "code",
      "metadata": {
        "id": "VLlAxXNC6-BD"
      },
      "source": [
        "\n",
        "import torchvision.transforms as transforms\n"
      ],
      "execution_count": null,
      "outputs": []
    },
    {
      "cell_type": "code",
      "metadata": {
        "id": "rxxStozo7BMP"
      },
      "source": [
        "# MNIST dataset (images and labels)\n",
        "dataset = MNIST(root='data/', \n",
        "                train=True,\n",
        "                transform=transforms.ToTensor())"
      ],
      "execution_count": null,
      "outputs": []
    },
    {
      "cell_type": "code",
      "metadata": {
        "id": "smiswFqo7C8s",
        "colab": {
          "base_uri": "https://localhost:8080/"
        },
        "outputId": "ef1e2d53-3c29-4348-d12f-533024cf690a"
      },
      "source": [
        "img_tensor, label = dataset[0]\n",
        "print(img_tensor.shape, label)"
      ],
      "execution_count": null,
      "outputs": [
        {
          "output_type": "stream",
          "text": [
            "torch.Size([1, 28, 28]) 5\n"
          ],
          "name": "stdout"
        }
      ]
    },
    {
      "cell_type": "code",
      "metadata": {
        "id": "_Hm4GGP_7E6Z",
        "colab": {
          "base_uri": "https://localhost:8080/"
        },
        "outputId": "b9b9ddc0-78b1-4f27-be5f-1be8e0f4b394"
      },
      "source": [
        "from torch.utils.data import random_split\n",
        "\n",
        "train_ds, val_ds = random_split(dataset, [50000, 10000])\n",
        "len(train_ds), len(val_ds)"
      ],
      "execution_count": null,
      "outputs": [
        {
          "output_type": "execute_result",
          "data": {
            "text/plain": [
              "(50000, 10000)"
            ]
          },
          "metadata": {
            "tags": []
          },
          "execution_count": 73
        }
      ]
    },
    {
      "cell_type": "code",
      "metadata": {
        "id": "nB6GNMza7JT6"
      },
      "source": [
        "from torch.utils.data import DataLoader\n",
        "\n",
        "batch_size = 128\n",
        "\n",
        "train_loader = DataLoader(train_ds, batch_size, shuffle=True)\n",
        "val_loader = DataLoader(val_ds, batch_size)"
      ],
      "execution_count": null,
      "outputs": []
    },
    {
      "cell_type": "code",
      "metadata": {
        "id": "p2UHNAB_7Lt-"
      },
      "source": [
        ""
      ],
      "execution_count": null,
      "outputs": []
    },
    {
      "cell_type": "markdown",
      "metadata": {
        "id": "01zabcd67Qqr"
      },
      "source": [
        "## Модель"
      ]
    },
    {
      "cell_type": "code",
      "metadata": {
        "id": "rRlQOjt87SHC"
      },
      "source": [
        "import torch.nn as nn\n",
        "\n",
        "input_size = 28*28\n",
        "num_classes = 10\n",
        "\n",
        "# Logistic regression model\n",
        "model = nn.Linear(input_size, num_classes)"
      ],
      "execution_count": null,
      "outputs": []
    },
    {
      "cell_type": "code",
      "metadata": {
        "id": "RnCfeCj07SxR",
        "colab": {
          "base_uri": "https://localhost:8080/"
        },
        "outputId": "55cdef98-8d57-4b4f-cbb0-6961486164c4"
      },
      "source": [
        "print(model.weight.shape)\n",
        "model.weight"
      ],
      "execution_count": null,
      "outputs": [
        {
          "output_type": "stream",
          "text": [
            "torch.Size([10, 784])\n"
          ],
          "name": "stdout"
        },
        {
          "output_type": "execute_result",
          "data": {
            "text/plain": [
              "Parameter containing:\n",
              "tensor([[ 0.0220, -0.0140, -0.0099,  ...,  0.0145, -0.0273,  0.0163],\n",
              "        [-0.0291,  0.0294, -0.0031,  ...,  0.0070,  0.0256, -0.0215],\n",
              "        [ 0.0253,  0.0222,  0.0357,  ..., -0.0067, -0.0326, -0.0261],\n",
              "        ...,\n",
              "        [ 0.0297,  0.0156, -0.0116,  ...,  0.0338,  0.0013,  0.0135],\n",
              "        [-0.0284, -0.0188, -0.0276,  ..., -0.0353,  0.0235, -0.0232],\n",
              "        [ 0.0129,  0.0056,  0.0211,  ..., -0.0164, -0.0233,  0.0106]],\n",
              "       requires_grad=True)"
            ]
          },
          "metadata": {
            "tags": []
          },
          "execution_count": 76
        }
      ]
    },
    {
      "cell_type": "code",
      "metadata": {
        "id": "swtlV8k57TAp",
        "colab": {
          "base_uri": "https://localhost:8080/"
        },
        "outputId": "6bcf7c1b-f9ef-445d-be49-07d04121dd32"
      },
      "source": [
        "print(model.bias.shape)\n",
        "model.bias"
      ],
      "execution_count": null,
      "outputs": [
        {
          "output_type": "stream",
          "text": [
            "torch.Size([10])\n"
          ],
          "name": "stdout"
        },
        {
          "output_type": "execute_result",
          "data": {
            "text/plain": [
              "Parameter containing:\n",
              "tensor([ 0.0355,  0.0159, -0.0125,  0.0308,  0.0229,  0.0335,  0.0312, -0.0145,\n",
              "         0.0153, -0.0140], requires_grad=True)"
            ]
          },
          "metadata": {
            "tags": []
          },
          "execution_count": 77
        }
      ]
    },
    {
      "cell_type": "code",
      "metadata": {
        "id": "SmdLf2rz7TKk",
        "colab": {
          "base_uri": "https://localhost:8080/",
          "height": 487
        },
        "outputId": "c6a86ded-9e5b-45aa-f129-c16e00953be8"
      },
      "source": [
        "for images, labels in train_loader:\n",
        "    print(labels)\n",
        "    print(images.shape)\n",
        "    outputs = model(images)\n",
        "    break"
      ],
      "execution_count": null,
      "outputs": [
        {
          "output_type": "stream",
          "text": [
            "tensor([3, 9, 4, 7, 6, 0, 4, 3, 1, 6, 3, 5, 4, 9, 0, 3, 2, 1, 6, 3, 8, 7, 2, 7,\n",
            "        8, 0, 0, 4, 9, 9, 3, 6, 2, 1, 9, 2, 3, 3, 2, 9, 0, 7, 5, 7, 8, 7, 9, 5,\n",
            "        0, 9, 1, 2, 5, 5, 2, 3, 4, 0, 6, 8, 4, 1, 4, 0, 5, 4, 9, 5, 7, 7, 4, 7,\n",
            "        3, 5, 5, 6, 7, 4, 0, 7, 7, 0, 0, 7, 3, 3, 0, 5, 7, 5, 5, 3, 2, 0, 7, 4,\n",
            "        2, 2, 5, 4, 5, 8, 3, 2, 5, 2, 9, 8, 0, 2, 4, 8, 8, 7, 4, 8, 1, 7, 3, 7,\n",
            "        0, 4, 4, 0, 5, 6, 4, 7])\n",
            "torch.Size([128, 1, 28, 28])\n"
          ],
          "name": "stdout"
        },
        {
          "output_type": "error",
          "ename": "RuntimeError",
          "evalue": "ignored",
          "traceback": [
            "\u001b[0;31m---------------------------------------------------------------------------\u001b[0m",
            "\u001b[0;31mRuntimeError\u001b[0m                              Traceback (most recent call last)",
            "\u001b[0;32m<ipython-input-78-72eddc737460>\u001b[0m in \u001b[0;36m<module>\u001b[0;34m()\u001b[0m\n\u001b[1;32m      2\u001b[0m     \u001b[0mprint\u001b[0m\u001b[0;34m(\u001b[0m\u001b[0mlabels\u001b[0m\u001b[0;34m)\u001b[0m\u001b[0;34m\u001b[0m\u001b[0;34m\u001b[0m\u001b[0m\n\u001b[1;32m      3\u001b[0m     \u001b[0mprint\u001b[0m\u001b[0;34m(\u001b[0m\u001b[0mimages\u001b[0m\u001b[0;34m.\u001b[0m\u001b[0mshape\u001b[0m\u001b[0;34m)\u001b[0m\u001b[0;34m\u001b[0m\u001b[0;34m\u001b[0m\u001b[0m\n\u001b[0;32m----> 4\u001b[0;31m     \u001b[0moutputs\u001b[0m \u001b[0;34m=\u001b[0m \u001b[0mmodel\u001b[0m\u001b[0;34m(\u001b[0m\u001b[0mimages\u001b[0m\u001b[0;34m)\u001b[0m\u001b[0;34m\u001b[0m\u001b[0;34m\u001b[0m\u001b[0m\n\u001b[0m\u001b[1;32m      5\u001b[0m     \u001b[0;32mbreak\u001b[0m\u001b[0;34m\u001b[0m\u001b[0;34m\u001b[0m\u001b[0m\n",
            "\u001b[0;32m/usr/local/lib/python3.7/dist-packages/torch/nn/modules/module.py\u001b[0m in \u001b[0;36m_call_impl\u001b[0;34m(self, *input, **kwargs)\u001b[0m\n\u001b[1;32m   1049\u001b[0m         if not (self._backward_hooks or self._forward_hooks or self._forward_pre_hooks or _global_backward_hooks\n\u001b[1;32m   1050\u001b[0m                 or _global_forward_hooks or _global_forward_pre_hooks):\n\u001b[0;32m-> 1051\u001b[0;31m             \u001b[0;32mreturn\u001b[0m \u001b[0mforward_call\u001b[0m\u001b[0;34m(\u001b[0m\u001b[0;34m*\u001b[0m\u001b[0minput\u001b[0m\u001b[0;34m,\u001b[0m \u001b[0;34m**\u001b[0m\u001b[0mkwargs\u001b[0m\u001b[0;34m)\u001b[0m\u001b[0;34m\u001b[0m\u001b[0;34m\u001b[0m\u001b[0m\n\u001b[0m\u001b[1;32m   1052\u001b[0m         \u001b[0;31m# Do not call functions when jit is used\u001b[0m\u001b[0;34m\u001b[0m\u001b[0;34m\u001b[0m\u001b[0;34m\u001b[0m\u001b[0m\n\u001b[1;32m   1053\u001b[0m         \u001b[0mfull_backward_hooks\u001b[0m\u001b[0;34m,\u001b[0m \u001b[0mnon_full_backward_hooks\u001b[0m \u001b[0;34m=\u001b[0m \u001b[0;34m[\u001b[0m\u001b[0;34m]\u001b[0m\u001b[0;34m,\u001b[0m \u001b[0;34m[\u001b[0m\u001b[0;34m]\u001b[0m\u001b[0;34m\u001b[0m\u001b[0;34m\u001b[0m\u001b[0m\n",
            "\u001b[0;32m/usr/local/lib/python3.7/dist-packages/torch/nn/modules/linear.py\u001b[0m in \u001b[0;36mforward\u001b[0;34m(self, input)\u001b[0m\n\u001b[1;32m     94\u001b[0m \u001b[0;34m\u001b[0m\u001b[0m\n\u001b[1;32m     95\u001b[0m     \u001b[0;32mdef\u001b[0m \u001b[0mforward\u001b[0m\u001b[0;34m(\u001b[0m\u001b[0mself\u001b[0m\u001b[0;34m,\u001b[0m \u001b[0minput\u001b[0m\u001b[0;34m:\u001b[0m \u001b[0mTensor\u001b[0m\u001b[0;34m)\u001b[0m \u001b[0;34m->\u001b[0m \u001b[0mTensor\u001b[0m\u001b[0;34m:\u001b[0m\u001b[0;34m\u001b[0m\u001b[0;34m\u001b[0m\u001b[0m\n\u001b[0;32m---> 96\u001b[0;31m         \u001b[0;32mreturn\u001b[0m \u001b[0mF\u001b[0m\u001b[0;34m.\u001b[0m\u001b[0mlinear\u001b[0m\u001b[0;34m(\u001b[0m\u001b[0minput\u001b[0m\u001b[0;34m,\u001b[0m \u001b[0mself\u001b[0m\u001b[0;34m.\u001b[0m\u001b[0mweight\u001b[0m\u001b[0;34m,\u001b[0m \u001b[0mself\u001b[0m\u001b[0;34m.\u001b[0m\u001b[0mbias\u001b[0m\u001b[0;34m)\u001b[0m\u001b[0;34m\u001b[0m\u001b[0;34m\u001b[0m\u001b[0m\n\u001b[0m\u001b[1;32m     97\u001b[0m \u001b[0;34m\u001b[0m\u001b[0m\n\u001b[1;32m     98\u001b[0m     \u001b[0;32mdef\u001b[0m \u001b[0mextra_repr\u001b[0m\u001b[0;34m(\u001b[0m\u001b[0mself\u001b[0m\u001b[0;34m)\u001b[0m \u001b[0;34m->\u001b[0m \u001b[0mstr\u001b[0m\u001b[0;34m:\u001b[0m\u001b[0;34m\u001b[0m\u001b[0;34m\u001b[0m\u001b[0m\n",
            "\u001b[0;32m/usr/local/lib/python3.7/dist-packages/torch/nn/functional.py\u001b[0m in \u001b[0;36mlinear\u001b[0;34m(input, weight, bias)\u001b[0m\n\u001b[1;32m   1845\u001b[0m     \u001b[0;32mif\u001b[0m \u001b[0mhas_torch_function_variadic\u001b[0m\u001b[0;34m(\u001b[0m\u001b[0minput\u001b[0m\u001b[0;34m,\u001b[0m \u001b[0mweight\u001b[0m\u001b[0;34m)\u001b[0m\u001b[0;34m:\u001b[0m\u001b[0;34m\u001b[0m\u001b[0;34m\u001b[0m\u001b[0m\n\u001b[1;32m   1846\u001b[0m         \u001b[0;32mreturn\u001b[0m \u001b[0mhandle_torch_function\u001b[0m\u001b[0;34m(\u001b[0m\u001b[0mlinear\u001b[0m\u001b[0;34m,\u001b[0m \u001b[0;34m(\u001b[0m\u001b[0minput\u001b[0m\u001b[0;34m,\u001b[0m \u001b[0mweight\u001b[0m\u001b[0;34m)\u001b[0m\u001b[0;34m,\u001b[0m \u001b[0minput\u001b[0m\u001b[0;34m,\u001b[0m \u001b[0mweight\u001b[0m\u001b[0;34m,\u001b[0m \u001b[0mbias\u001b[0m\u001b[0;34m=\u001b[0m\u001b[0mbias\u001b[0m\u001b[0;34m)\u001b[0m\u001b[0;34m\u001b[0m\u001b[0;34m\u001b[0m\u001b[0m\n\u001b[0;32m-> 1847\u001b[0;31m     \u001b[0;32mreturn\u001b[0m \u001b[0mtorch\u001b[0m\u001b[0;34m.\u001b[0m\u001b[0m_C\u001b[0m\u001b[0;34m.\u001b[0m\u001b[0m_nn\u001b[0m\u001b[0;34m.\u001b[0m\u001b[0mlinear\u001b[0m\u001b[0;34m(\u001b[0m\u001b[0minput\u001b[0m\u001b[0;34m,\u001b[0m \u001b[0mweight\u001b[0m\u001b[0;34m,\u001b[0m \u001b[0mbias\u001b[0m\u001b[0;34m)\u001b[0m\u001b[0;34m\u001b[0m\u001b[0;34m\u001b[0m\u001b[0m\n\u001b[0m\u001b[1;32m   1848\u001b[0m \u001b[0;34m\u001b[0m\u001b[0m\n\u001b[1;32m   1849\u001b[0m \u001b[0;34m\u001b[0m\u001b[0m\n",
            "\u001b[0;31mRuntimeError\u001b[0m: mat1 and mat2 shapes cannot be multiplied (3584x28 and 784x10)"
          ]
        }
      ]
    },
    {
      "cell_type": "code",
      "metadata": {
        "id": "mBZpDvW97TTD"
      },
      "source": [
        "class MnistModel(nn.Module):\n",
        "    def __init__(self):\n",
        "        super().__init__()\n",
        "        self.linear = nn.Linear(input_size, num_classes)\n",
        "        \n",
        "    def forward(self, xb):\n",
        "        xb = xb.reshape(-1, 784)\n",
        "        out = self.linear(xb)\n",
        "        return out\n",
        "    \n",
        "model = MnistModel()"
      ],
      "execution_count": null,
      "outputs": []
    },
    {
      "cell_type": "code",
      "metadata": {
        "id": "FIUDS6rtPL31",
        "colab": {
          "base_uri": "https://localhost:8080/"
        },
        "outputId": "1a906224-f857-4564-dab0-1d6eee27406e"
      },
      "source": [
        "model"
      ],
      "execution_count": null,
      "outputs": [
        {
          "output_type": "execute_result",
          "data": {
            "text/plain": [
              "MnistModel(\n",
              "  (linear): Linear(in_features=784, out_features=10, bias=True)\n",
              ")"
            ]
          },
          "metadata": {
            "tags": []
          },
          "execution_count": 80
        }
      ]
    },
    {
      "cell_type": "code",
      "metadata": {
        "id": "rWvxccb27TGL",
        "colab": {
          "base_uri": "https://localhost:8080/"
        },
        "outputId": "c87ec2f2-cf01-47e0-fd5c-7a074786ddd7"
      },
      "source": [
        "print(model.linear.weight.shape, model.linear.bias.shape)\n",
        "list(model.parameters())"
      ],
      "execution_count": null,
      "outputs": [
        {
          "output_type": "stream",
          "text": [
            "torch.Size([10, 784]) torch.Size([10])\n"
          ],
          "name": "stdout"
        },
        {
          "output_type": "execute_result",
          "data": {
            "text/plain": [
              "[Parameter containing:\n",
              " tensor([[ 0.0203, -0.0164,  0.0094,  ..., -0.0346, -0.0338,  0.0168],\n",
              "         [ 0.0103,  0.0305, -0.0151,  ..., -0.0307,  0.0174, -0.0006],\n",
              "         [-0.0008, -0.0274,  0.0010,  ..., -0.0069, -0.0274, -0.0007],\n",
              "         ...,\n",
              "         [ 0.0278,  0.0252,  0.0348,  ..., -0.0139,  0.0018, -0.0337],\n",
              "         [-0.0041,  0.0230, -0.0267,  ..., -0.0266,  0.0216,  0.0150],\n",
              "         [ 0.0185, -0.0084,  0.0239,  ..., -0.0343, -0.0339,  0.0193]],\n",
              "        requires_grad=True), Parameter containing:\n",
              " tensor([-2.6749e-02, -9.0318e-05,  1.7101e-02,  2.4514e-02, -1.8430e-02,\n",
              "          7.7689e-03,  1.8607e-02, -1.0194e-02,  2.9086e-02,  1.7839e-02],\n",
              "        requires_grad=True)]"
            ]
          },
          "metadata": {
            "tags": []
          },
          "execution_count": 81
        }
      ]
    },
    {
      "cell_type": "code",
      "metadata": {
        "id": "k3N9ouTq7S98",
        "colab": {
          "base_uri": "https://localhost:8080/"
        },
        "outputId": "7423cc77-9146-4f94-8a00-7bc07bf8dc09"
      },
      "source": [
        "for images, labels in train_loader:\n",
        "    outputs = model(images)\n",
        "    break\n",
        "\n",
        "print('outputs.shape : ', outputs.shape)\n",
        "print('Sample outputs :\\n', outputs[:2].data)"
      ],
      "execution_count": null,
      "outputs": [
        {
          "output_type": "stream",
          "text": [
            "outputs.shape :  torch.Size([128, 10])\n",
            "Sample outputs :\n",
            " tensor([[ 1.5187e-01,  3.9303e-01,  1.6386e-01, -1.3317e-02, -3.1055e-02,\n",
            "         -6.1533e-03,  2.7594e-04, -3.6498e-02,  7.0518e-02,  3.7116e-02],\n",
            "        [ 1.0443e-02,  4.1007e-01, -1.3080e-01,  2.4860e-02,  5.7517e-02,\n",
            "         -2.2191e-02,  1.3715e-01, -1.1114e-01,  3.4142e-02,  1.3792e-01]])\n"
          ],
          "name": "stdout"
        }
      ]
    },
    {
      "cell_type": "code",
      "metadata": {
        "id": "QB1yrU_J7S64"
      },
      "source": [
        "import torch.nn.functional as F\n"
      ],
      "execution_count": null,
      "outputs": []
    },
    {
      "cell_type": "code",
      "metadata": {
        "id": "OO0TSzxA7S2c",
        "colab": {
          "base_uri": "https://localhost:8080/"
        },
        "outputId": "17a0d5f2-2c11-48ee-cb74-6aece0914c21"
      },
      "source": [
        "# Apply softmax for each output row\n",
        "probs = F.softmax(outputs, dim=1)\n",
        "\n",
        "# Look at sample probabilities\n",
        "print(\"Sample probabilities:\\n\", probs[:2].data)\n",
        "\n",
        "# Add up the probabilities of an output row\n",
        "print(\"Sum: \", torch.sum(probs[0]).item())"
      ],
      "execution_count": null,
      "outputs": [
        {
          "output_type": "stream",
          "text": [
            "Sample probabilities:\n",
            " tensor([[0.1073, 0.1366, 0.1086, 0.0910, 0.0894, 0.0916, 0.0922, 0.0889, 0.0989,\n",
            "         0.0957],\n",
            "        [0.0946, 0.1411, 0.0821, 0.0960, 0.0992, 0.0916, 0.1074, 0.0838, 0.0969,\n",
            "         0.1075]])\n",
            "Sum:  0.9999999403953552\n"
          ],
          "name": "stdout"
        }
      ]
    },
    {
      "cell_type": "code",
      "metadata": {
        "id": "TTmUg2gt7tlO",
        "colab": {
          "base_uri": "https://localhost:8080/"
        },
        "outputId": "990fc337-d62a-4ede-8cac-abc11b6b5fb3"
      },
      "source": [
        "max_probs, preds = torch.max(probs, dim=1)\n",
        "print(preds)\n",
        "print(max_probs)"
      ],
      "execution_count": null,
      "outputs": [
        {
          "output_type": "stream",
          "text": [
            "tensor([1, 1, 1, 1, 1, 1, 1, 8, 1, 6, 1, 8, 1, 1, 1, 1, 5, 1, 8, 1, 1, 1, 1, 1,\n",
            "        1, 1, 1, 2, 9, 1, 1, 9, 1, 2, 1, 1, 6, 1, 1, 1, 1, 1, 5, 1, 1, 1, 1, 1,\n",
            "        1, 1, 1, 1, 1, 1, 1, 1, 1, 5, 1, 1, 1, 1, 1, 1, 1, 1, 1, 0, 1, 1, 1, 5,\n",
            "        1, 1, 1, 1, 8, 5, 1, 1, 1, 0, 6, 1, 5, 1, 1, 6, 2, 8, 1, 1, 1, 1, 1, 1,\n",
            "        1, 8, 1, 1, 1, 1, 1, 8, 1, 1, 1, 8, 5, 1, 1, 1, 1, 0, 8, 6, 7, 1, 1, 1,\n",
            "        1, 8, 1, 1, 1, 1, 1, 1])\n",
            "tensor([0.1366, 0.1411, 0.1338, 0.1281, 0.1370, 0.1484, 0.1633, 0.1132, 0.1697,\n",
            "        0.1446, 0.1503, 0.1098, 0.1468, 0.1505, 0.1901, 0.1666, 0.1168, 0.1297,\n",
            "        0.1125, 0.1387, 0.1452, 0.1263, 0.1373, 0.1357, 0.1716, 0.1290, 0.1308,\n",
            "        0.1180, 0.1256, 0.1203, 0.1350, 0.1360, 0.1469, 0.1136, 0.1557, 0.1730,\n",
            "        0.1275, 0.1270, 0.1118, 0.1517, 0.1312, 0.1486, 0.1141, 0.1362, 0.1696,\n",
            "        0.1248, 0.1978, 0.1451, 0.1375, 0.1474, 0.1527, 0.1359, 0.1436, 0.1699,\n",
            "        0.1310, 0.1221, 0.1586, 0.1186, 0.1501, 0.1264, 0.1175, 0.1388, 0.1247,\n",
            "        0.1942, 0.1829, 0.1257, 0.1377, 0.1281, 0.1250, 0.1345, 0.1397, 0.1157,\n",
            "        0.1511, 0.1522, 0.1980, 0.1765, 0.1268, 0.1175, 0.1412, 0.1760, 0.1426,\n",
            "        0.1133, 0.1282, 0.1425, 0.1440, 0.2112, 0.1463, 0.1153, 0.1257, 0.1120,\n",
            "        0.1785, 0.1085, 0.1410, 0.1409, 0.1518, 0.1202, 0.1376, 0.1121, 0.1714,\n",
            "        0.1616, 0.1638, 0.1122, 0.1260, 0.1134, 0.1332, 0.1309, 0.1408, 0.1246,\n",
            "        0.1089, 0.2005, 0.1471, 0.1422, 0.1511, 0.1310, 0.1160, 0.1211, 0.1332,\n",
            "        0.1729, 0.1390, 0.1614, 0.1354, 0.1439, 0.1423, 0.1311, 0.1350, 0.1571,\n",
            "        0.1264, 0.1510], grad_fn=<MaxBackward0>)\n"
          ],
          "name": "stdout"
        }
      ]
    },
    {
      "cell_type": "code",
      "metadata": {
        "id": "xflLjbhk7vkz",
        "colab": {
          "base_uri": "https://localhost:8080/"
        },
        "outputId": "e5f91d1d-a9c2-4d0d-856d-37b62a1a09d1"
      },
      "source": [
        "labels"
      ],
      "execution_count": null,
      "outputs": [
        {
          "output_type": "execute_result",
          "data": {
            "text/plain": [
              "tensor([9, 7, 8, 4, 9, 9, 0, 1, 0, 5, 2, 1, 2, 2, 3, 7, 1, 2, 1, 9, 4, 0, 9, 6,\n",
              "        2, 6, 5, 6, 9, 9, 3, 4, 4, 1, 0, 3, 3, 5, 5, 7, 7, 7, 1, 8, 0, 9, 0, 8,\n",
              "        3, 6, 3, 4, 2, 0, 4, 8, 8, 1, 4, 9, 7, 2, 8, 7, 0, 2, 8, 5, 0, 5, 3, 4,\n",
              "        9, 8, 3, 6, 1, 9, 4, 9, 7, 1, 0, 8, 6, 0, 4, 5, 1, 1, 8, 4, 9, 6, 4, 6,\n",
              "        3, 1, 0, 5, 0, 4, 4, 1, 9, 0, 8, 1, 5, 0, 0, 9, 6, 2, 1, 9, 6, 9, 9, 3,\n",
              "        2, 3, 5, 2, 5, 3, 6, 4])"
            ]
          },
          "metadata": {
            "tags": []
          },
          "execution_count": 86
        }
      ]
    },
    {
      "cell_type": "code",
      "metadata": {
        "id": "gQMnh1DZ7x9S"
      },
      "source": [
        "def accuracy(outputs, labels):\n",
        "    _, preds = torch.max(outputs, dim=1)\n",
        "    return torch.tensor(torch.sum(preds == labels).item() / len(preds))"
      ],
      "execution_count": null,
      "outputs": []
    },
    {
      "cell_type": "code",
      "metadata": {
        "id": "Ii1IO2Aa7z_z",
        "colab": {
          "base_uri": "https://localhost:8080/"
        },
        "outputId": "2f5d4a07-23ee-43dc-a9b3-7d5602f6b873"
      },
      "source": [
        "accuracy(outputs, labels)\n"
      ],
      "execution_count": null,
      "outputs": [
        {
          "output_type": "execute_result",
          "data": {
            "text/plain": [
              "tensor(0.0156)"
            ]
          },
          "metadata": {
            "tags": []
          },
          "execution_count": 88
        }
      ]
    },
    {
      "cell_type": "code",
      "metadata": {
        "id": "WBR4ydPO72UU"
      },
      "source": [
        "loss_fn = F.cross_entropy\n"
      ],
      "execution_count": null,
      "outputs": []
    },
    {
      "cell_type": "code",
      "metadata": {
        "id": "4_hDNoKP76hD",
        "colab": {
          "base_uri": "https://localhost:8080/"
        },
        "outputId": "728ce916-17af-490e-c61f-a5410768861e"
      },
      "source": [
        "# Loss for current batch of data\n",
        "loss = loss_fn(outputs, labels)\n",
        "print(loss)"
      ],
      "execution_count": null,
      "outputs": [
        {
          "output_type": "stream",
          "text": [
            "tensor(2.3398, grad_fn=<NllLossBackward>)\n"
          ],
          "name": "stdout"
        }
      ]
    },
    {
      "cell_type": "code",
      "metadata": {
        "id": "0xAFDjuM78M-"
      },
      "source": [
        "class MnistModel(nn.Module):\n",
        "    def __init__(self):\n",
        "        super().__init__()\n",
        "        self.linear = nn.Linear(input_size, num_classes)\n",
        "        \n",
        "    def forward(self, xb):\n",
        "        xb = xb.reshape(-1, 784)\n",
        "        out = self.linear(xb)\n",
        "        return out\n",
        "    \n",
        "    def training_step(self, batch):\n",
        "        images, labels = batch \n",
        "        out = self(images)                  # Generate predictions\n",
        "        loss = F.cross_entropy(out, labels) # Calculate loss\n",
        "        return loss\n",
        "    \n",
        "    def validation_step(self, batch):\n",
        "        images, labels = batch \n",
        "        out = self(images)                    # Generate predictions\n",
        "        loss = F.cross_entropy(out, labels)   # Calculate loss\n",
        "        acc = accuracy(out, labels)           # Calculate accuracy\n",
        "        return {'val_loss': loss, 'val_acc': acc}\n",
        "        \n",
        "    def validation_epoch_end(self, outputs):\n",
        "        batch_losses = [x['val_loss'] for x in outputs]\n",
        "        epoch_loss = torch.stack(batch_losses).mean()   # Combine losses\n",
        "        batch_accs = [x['val_acc'] for x in outputs]\n",
        "        epoch_acc = torch.stack(batch_accs).mean()      # Combine accuracies\n",
        "        return {'val_loss': epoch_loss.item(), 'val_acc': epoch_acc.item()}\n",
        "    \n",
        "    def epoch_end(self, epoch, result):\n",
        "        print(\"Epoch [{}], val_loss: {:.4f}, val_acc: {:.4f}\".format(epoch, result['val_loss'], result['val_acc']))\n",
        "    \n",
        "model = MnistModel()"
      ],
      "execution_count": null,
      "outputs": []
    },
    {
      "cell_type": "code",
      "metadata": {
        "id": "6Rclcumb7_RX"
      },
      "source": [
        "def evaluate(model, val_loader):\n",
        "    outputs = [model.validation_step(batch) for batch in val_loader]\n",
        "    return model.validation_epoch_end(outputs)\n",
        "\n",
        "def fit(epochs, lr, model, train_loader, val_loader, opt_func=torch.optim.SGD):\n",
        "    history = []\n",
        "    optimizer = opt_func(model.parameters(), lr)\n",
        "    for epoch in range(epochs):\n",
        "        # Training Phase \n",
        "        for batch in train_loader:\n",
        "            loss = model.training_step(batch)\n",
        "            loss.backward()\n",
        "            optimizer.step()\n",
        "            optimizer.zero_grad()\n",
        "        # Validation phase\n",
        "        result = evaluate(model, val_loader)\n",
        "        model.epoch_end(epoch, result)\n",
        "        history.append(result)\n",
        "    return history"
      ],
      "execution_count": null,
      "outputs": []
    },
    {
      "cell_type": "code",
      "metadata": {
        "id": "pHr2Ss4F8Ldl",
        "colab": {
          "base_uri": "https://localhost:8080/"
        },
        "outputId": "0b420329-1066-48c9-f6dd-e825c8cd805d"
      },
      "source": [
        "result0 = evaluate(model, val_loader)\n",
        "result0"
      ],
      "execution_count": null,
      "outputs": [
        {
          "output_type": "execute_result",
          "data": {
            "text/plain": [
              "{'val_acc': 0.07426819950342178, 'val_loss': 2.3166275024414062}"
            ]
          },
          "metadata": {
            "tags": []
          },
          "execution_count": 94
        }
      ]
    },
    {
      "cell_type": "code",
      "metadata": {
        "id": "86GJzkCi8O3I",
        "colab": {
          "base_uri": "https://localhost:8080/"
        },
        "outputId": "7c75bb8f-e477-4453-8391-79d44a9dd93f"
      },
      "source": [
        "history1 = fit(5, 0.001, model, train_loader, val_loader)\n"
      ],
      "execution_count": null,
      "outputs": [
        {
          "output_type": "stream",
          "text": [
            "Epoch [0], val_loss: 1.9524, val_acc: 0.6010\n",
            "Epoch [1], val_loss: 1.6817, val_acc: 0.7234\n",
            "Epoch [2], val_loss: 1.4799, val_acc: 0.7619\n",
            "Epoch [3], val_loss: 1.3281, val_acc: 0.7840\n",
            "Epoch [4], val_loss: 1.2114, val_acc: 0.7951\n"
          ],
          "name": "stdout"
        }
      ]
    },
    {
      "cell_type": "code",
      "metadata": {
        "id": "AhklnMXV8Qkr",
        "colab": {
          "base_uri": "https://localhost:8080/"
        },
        "outputId": "821eae61-66bf-4d71-ff46-01ba63f81861"
      },
      "source": [
        "history2 = fit(5, 0.001, model, train_loader, val_loader)\n"
      ],
      "execution_count": null,
      "outputs": [
        {
          "output_type": "stream",
          "text": [
            "Epoch [0], val_loss: 1.1199, val_acc: 0.8039\n",
            "Epoch [1], val_loss: 1.0466, val_acc: 0.8122\n",
            "Epoch [2], val_loss: 0.9867, val_acc: 0.8185\n",
            "Epoch [3], val_loss: 0.9368, val_acc: 0.8259\n",
            "Epoch [4], val_loss: 0.8948, val_acc: 0.8291\n"
          ],
          "name": "stdout"
        }
      ]
    },
    {
      "cell_type": "code",
      "metadata": {
        "id": "RomBMmFL8Wgd",
        "colab": {
          "base_uri": "https://localhost:8080/"
        },
        "outputId": "3aa0d9db-4f74-40ee-bdf5-c4c511bd8d88"
      },
      "source": [
        "history3 = fit(5, 0.001, model, train_loader, val_loader)\n"
      ],
      "execution_count": null,
      "outputs": [
        {
          "output_type": "stream",
          "text": [
            "Epoch [0], val_loss: 0.8588, val_acc: 0.8322\n",
            "Epoch [1], val_loss: 0.8275, val_acc: 0.8360\n",
            "Epoch [2], val_loss: 0.8002, val_acc: 0.8380\n",
            "Epoch [3], val_loss: 0.7762, val_acc: 0.8398\n",
            "Epoch [4], val_loss: 0.7548, val_acc: 0.8425\n"
          ],
          "name": "stdout"
        }
      ]
    },
    {
      "cell_type": "code",
      "metadata": {
        "id": "d46dpede8YDJ",
        "colab": {
          "base_uri": "https://localhost:8080/"
        },
        "outputId": "accb9ecb-e08b-47d2-83ee-1cf617b2bb28"
      },
      "source": [
        "history4 = fit(5, 0.001, model, train_loader, val_loader)\n"
      ],
      "execution_count": null,
      "outputs": [
        {
          "output_type": "stream",
          "text": [
            "Epoch [0], val_loss: 0.7355, val_acc: 0.8449\n",
            "Epoch [1], val_loss: 0.7182, val_acc: 0.8471\n",
            "Epoch [2], val_loss: 0.7025, val_acc: 0.8488\n",
            "Epoch [3], val_loss: 0.6882, val_acc: 0.8507\n",
            "Epoch [4], val_loss: 0.6751, val_acc: 0.8529\n"
          ],
          "name": "stdout"
        }
      ]
    },
    {
      "cell_type": "code",
      "metadata": {
        "id": "jGs8awvT8Zqj",
        "colab": {
          "base_uri": "https://localhost:8080/",
          "height": 295
        },
        "outputId": "41e483af-4eac-45b4-b97f-9d40e5af8034"
      },
      "source": [
        "# Replace these values with your results\n",
        "history = [result0] + history1 + history2 + history3 + history4\n",
        "accuracies = [result['val_acc'] for result in history]\n",
        "plt.plot(accuracies, '-x')\n",
        "plt.xlabel('epoch')\n",
        "plt.ylabel('accuracy')\n",
        "plt.title('Accuracy vs. No. of epochs');"
      ],
      "execution_count": null,
      "outputs": [
        {
          "output_type": "display_data",
          "data": {
            "image/png": "[encoded data removed]",
            "text/plain": [
              "<Figure size 432x288 with 1 Axes>"
            ]
          },
          "metadata": {
            "tags": [],
            "needs_background": "light"
          }
        }
      ]
    },
    {
      "cell_type": "code",
      "metadata": {
        "id": "46_nYYsk8c6x"
      },
      "source": [
        "# Define test dataset\n",
        "test_dataset = MNIST(root='data/', \n",
        "                     train=False,\n",
        "                     transform=transforms.ToTensor())"
      ],
      "execution_count": null,
      "outputs": []
    },
    {
      "cell_type": "code",
      "metadata": {
        "id": "w6Fd4gPJ8hkn",
        "colab": {
          "base_uri": "https://localhost:8080/",
          "height": 300
        },
        "outputId": "572001c5-1f42-4629-c10a-db57f1dd417c"
      },
      "source": [
        "img, label = test_dataset[0]\n",
        "plt.imshow(img[0], cmap='gray')\n",
        "print('Shape:', img.shape)\n",
        "print('Label:', label)"
      ],
      "execution_count": null,
      "outputs": [
        {
          "output_type": "stream",
          "text": [
            "Shape: torch.Size([1, 28, 28])\n",
            "Label: 7\n"
          ],
          "name": "stdout"
        },
        {
          "output_type": "display_data",
          "data": {
            "image/png": "[encoded data removed]",
            "text/plain": [
              "<Figure size 432x288 with 1 Axes>"
            ]
          },
          "metadata": {
            "tags": [],
            "needs_background": "light"
          }
        }
      ]
    },
    {
      "cell_type": "code",
      "metadata": {
        "id": "1YE9RktH8jTS",
        "colab": {
          "base_uri": "https://localhost:8080/"
        },
        "outputId": "baf7e6f3-bfb0-4771-a84f-0372e1035152"
      },
      "source": [
        "img.unsqueeze(0).shape\n"
      ],
      "execution_count": null,
      "outputs": [
        {
          "output_type": "execute_result",
          "data": {
            "text/plain": [
              "torch.Size([1, 1, 28, 28])"
            ]
          },
          "metadata": {
            "tags": []
          },
          "execution_count": 102
        }
      ]
    },
    {
      "cell_type": "code",
      "metadata": {
        "id": "HKMhi2Sl8qfx"
      },
      "source": [
        "def predict_image(img, model):\n",
        "    xb = img.unsqueeze(0)\n",
        "    yb = model(xb)\n",
        "    _, preds  = torch.max(yb, dim=1)\n",
        "    return preds[0].item()"
      ],
      "execution_count": null,
      "outputs": []
    },
    {
      "cell_type": "code",
      "metadata": {
        "id": "Bd3Q5pXv8swY",
        "colab": {
          "base_uri": "https://localhost:8080/"
        },
        "outputId": "223ed202-c592-4186-a1f7-964a233bd5fe"
      },
      "source": [
        "test_loader = DataLoader(test_dataset, batch_size=256)\n",
        "result = evaluate(model, test_loader)\n",
        "result"
      ],
      "execution_count": null,
      "outputs": [
        {
          "output_type": "execute_result",
          "data": {
            "text/plain": [
              "{'val_acc': 0.86083984375, 'val_loss': 0.6416943669319153}"
            ]
          },
          "metadata": {
            "tags": []
          },
          "execution_count": 104
        }
      ]
    },
    {
      "cell_type": "code",
      "metadata": {
        "id": "IqNwxwX_8xbM"
      },
      "source": [
        "torch.save(model.state_dict(), 'mnist-logistic.pth')\n"
      ],
      "execution_count": null,
      "outputs": []
    },
    {
      "cell_type": "code",
      "metadata": {
        "id": "fUbeZcjB8zbq",
        "colab": {
          "base_uri": "https://localhost:8080/"
        },
        "outputId": "972b59f1-2812-4288-b063-82cdf6eb9503"
      },
      "source": [
        "model.state_dict()\n"
      ],
      "execution_count": null,
      "outputs": [
        {
          "output_type": "execute_result",
          "data": {
            "text/plain": [
              "OrderedDict([('linear.weight',\n",
              "              tensor([[-0.0160,  0.0122,  0.0008,  ..., -0.0272, -0.0128,  0.0200],\n",
              "                      [-0.0092, -0.0322,  0.0314,  ...,  0.0291, -0.0302, -0.0327],\n",
              "                      [ 0.0060, -0.0025,  0.0211,  ..., -0.0184,  0.0022,  0.0010],\n",
              "                      ...,\n",
              "                      [ 0.0046,  0.0216,  0.0335,  ..., -0.0189, -0.0117,  0.0314],\n",
              "                      [ 0.0097,  0.0136,  0.0350,  ..., -0.0103,  0.0019, -0.0067],\n",
              "                      [ 0.0239, -0.0192,  0.0332,  ..., -0.0102,  0.0351, -0.0334]])),\n",
              "             ('linear.bias',\n",
              "              tensor([-0.0342,  0.0735, -0.0336, -0.0260,  0.0268,  0.0788,  0.0197,  0.0607,\n",
              "                      -0.0942, -0.0310]))])"
            ]
          },
          "metadata": {
            "tags": []
          },
          "execution_count": 106
        }
      ]
    },
    {
      "cell_type": "code",
      "metadata": {
        "id": "N1sbLqIs81wI",
        "colab": {
          "base_uri": "https://localhost:8080/"
        },
        "outputId": "80a9b831-1fbd-4f62-c5c6-e9ac0f185a03"
      },
      "source": [
        "model2 = MnistModel()\n",
        "model2.load_state_dict(torch.load('mnist-logistic.pth'))\n",
        "model2.state_dict()"
      ],
      "execution_count": null,
      "outputs": [
        {
          "output_type": "execute_result",
          "data": {
            "text/plain": [
              "OrderedDict([('linear.weight',\n",
              "              tensor([[-0.0160,  0.0122,  0.0008,  ..., -0.0272, -0.0128,  0.0200],\n",
              "                      [-0.0092, -0.0322,  0.0314,  ...,  0.0291, -0.0302, -0.0327],\n",
              "                      [ 0.0060, -0.0025,  0.0211,  ..., -0.0184,  0.0022,  0.0010],\n",
              "                      ...,\n",
              "                      [ 0.0046,  0.0216,  0.0335,  ..., -0.0189, -0.0117,  0.0314],\n",
              "                      [ 0.0097,  0.0136,  0.0350,  ..., -0.0103,  0.0019, -0.0067],\n",
              "                      [ 0.0239, -0.0192,  0.0332,  ..., -0.0102,  0.0351, -0.0334]])),\n",
              "             ('linear.bias',\n",
              "              tensor([-0.0342,  0.0735, -0.0336, -0.0260,  0.0268,  0.0788,  0.0197,  0.0607,\n",
              "                      -0.0942, -0.0310]))])"
            ]
          },
          "metadata": {
            "tags": []
          },
          "execution_count": 107
        }
      ]
    },
    {
      "cell_type": "code",
      "metadata": {
        "id": "LyBoRGTJ85kA",
        "colab": {
          "base_uri": "https://localhost:8080/"
        },
        "outputId": "3d0d0580-a9b2-4537-9bdf-b87841086a31"
      },
      "source": [
        "test_loader = DataLoader(test_dataset, batch_size=256)\n",
        "result = evaluate(model2, test_loader)\n",
        "result"
      ],
      "execution_count": null,
      "outputs": [
        {
          "output_type": "execute_result",
          "data": {
            "text/plain": [
              "{'val_acc': 0.86083984375, 'val_loss': 0.6416943669319153}"
            ]
          },
          "metadata": {
            "tags": []
          },
          "execution_count": 108
        }
      ]
    },
    {
      "cell_type": "code",
      "metadata": {
        "id": "651KPl_C89Ar"
      },
      "source": [
        ""
      ],
      "execution_count": null,
      "outputs": []
    },
    {
      "cell_type": "markdown",
      "metadata": {
        "id": "Mi8s8zAn9Rxl"
      },
      "source": [
        "# Часть 4. Глубокие сети и CUDA"
      ]
    },
    {
      "cell_type": "code",
      "metadata": {
        "id": "iPHXNMkT9RIU"
      },
      "source": [
        "def accuracy(outputs, labels):\n",
        "    _, preds = torch.max(outputs, dim=1)\n",
        "    return torch.tensor(torch.sum(preds == labels).item() / len(preds))"
      ],
      "execution_count": null,
      "outputs": []
    },
    {
      "cell_type": "code",
      "metadata": {
        "id": "Id0_Cm979RFS"
      },
      "source": [
        "class MnistModel(nn.Module):\n",
        "    \"\"\"Feedfoward neural network with 1 hidden layer\"\"\"\n",
        "    def __init__(self, in_size, hidden_size, out_size):\n",
        "        super().__init__()\n",
        "        # hidden layer\n",
        "        self.linear1 = nn.Linear(in_size, hidden_size)\n",
        "        # output layer\n",
        "        self.linear2 = nn.Linear(hidden_size, out_size)\n",
        "        \n",
        "    def forward(self, xb):\n",
        "        # Flatten the image tensors\n",
        "        xb = xb.view(xb.size(0), -1)\n",
        "        # Get intermediate outputs using hidden layer\n",
        "        out = self.linear1(xb)\n",
        "        # Apply activation function\n",
        "        out = F.relu(out)\n",
        "        # Get predictions using output layer\n",
        "        out = self.linear2(out)\n",
        "        return out\n",
        "    \n",
        "    def training_step(self, batch):\n",
        "        images, labels = batch \n",
        "        out = self(images)                  # Generate predictions\n",
        "        loss = F.cross_entropy(out, labels) # Calculate loss\n",
        "        return loss\n",
        "    \n",
        "    def validation_step(self, batch):\n",
        "        images, labels = batch \n",
        "        out = self(images)                    # Generate predictions\n",
        "        loss = F.cross_entropy(out, labels)   # Calculate loss\n",
        "        acc = accuracy(out, labels)           # Calculate accuracy\n",
        "        return {'val_loss': loss, 'val_acc': acc}\n",
        "        \n",
        "    def validation_epoch_end(self, outputs):\n",
        "        batch_losses = [x['val_loss'] for x in outputs]\n",
        "        epoch_loss = torch.stack(batch_losses).mean()   # Combine losses\n",
        "        batch_accs = [x['val_acc'] for x in outputs]\n",
        "        epoch_acc = torch.stack(batch_accs).mean()      # Combine accuracies\n",
        "        return {'val_loss': epoch_loss.item(), 'val_acc': epoch_acc.item()}\n",
        "    \n",
        "    def epoch_end(self, epoch, result):\n",
        "        print(\"Epoch [{}], val_loss: {:.4f}, val_acc: {:.4f}\".format(epoch, result['val_loss'], result['val_acc']))"
      ],
      "execution_count": null,
      "outputs": []
    },
    {
      "cell_type": "code",
      "metadata": {
        "id": "ClgesT0m9RCX"
      },
      "source": [
        "input_size = 784\n",
        "hidden_size = 32 # you can change this\n",
        "num_classes = 10"
      ],
      "execution_count": null,
      "outputs": []
    },
    {
      "cell_type": "code",
      "metadata": {
        "id": "sEaG8Tn-9Q_O"
      },
      "source": [
        "model = MnistModel(input_size, hidden_size=32, out_size=num_classes)\n"
      ],
      "execution_count": null,
      "outputs": []
    },
    {
      "cell_type": "code",
      "metadata": {
        "id": "GYTEiegI9Q8c",
        "colab": {
          "base_uri": "https://localhost:8080/"
        },
        "outputId": "20db761b-c9b3-4eb9-e494-986373c2f9fa"
      },
      "source": [
        "for t in model.parameters():\n",
        "    print(t.shape)"
      ],
      "execution_count": null,
      "outputs": [
        {
          "output_type": "stream",
          "text": [
            "torch.Size([32, 784])\n",
            "torch.Size([32])\n",
            "torch.Size([10, 32])\n",
            "torch.Size([10])\n"
          ],
          "name": "stdout"
        }
      ]
    },
    {
      "cell_type": "code",
      "metadata": {
        "id": "JjyFVhDO9hIy",
        "colab": {
          "base_uri": "https://localhost:8080/"
        },
        "outputId": "219a88dc-222c-452b-ddfe-3042f931157c"
      },
      "source": [
        "for images, labels in train_loader:\n",
        "    outputs = model(images)\n",
        "    loss = F.cross_entropy(outputs, labels)\n",
        "    print('Loss:', loss.item())\n",
        "    break\n",
        "\n",
        "print('outputs.shape : ', outputs.shape)\n",
        "print('Sample outputs :\\n', outputs[:2].data)"
      ],
      "execution_count": null,
      "outputs": [
        {
          "output_type": "stream",
          "text": [
            "Loss: 2.2898406982421875\n",
            "outputs.shape :  torch.Size([128, 10])\n",
            "Sample outputs :\n",
            " tensor([[ 0.1767, -0.0398, -0.0365,  0.0283,  0.2470,  0.0712,  0.0328, -0.0868,\n",
            "          0.0304, -0.0521],\n",
            "        [ 0.3048, -0.0346, -0.0436, -0.0851, -0.0275, -0.0131,  0.0545, -0.2314,\n",
            "         -0.0294, -0.1926]])\n"
          ],
          "name": "stdout"
        }
      ]
    },
    {
      "cell_type": "code",
      "metadata": {
        "id": "ffJcdsbY9kMR",
        "colab": {
          "base_uri": "https://localhost:8080/"
        },
        "outputId": "d35315e0-f848-450c-ae68-a0f1f7559eb9"
      },
      "source": [
        "history_deep = fit(50, 0.001, model, train_loader, val_loader)"
      ],
      "execution_count": null,
      "outputs": [
        {
          "output_type": "stream",
          "text": [
            "Epoch [0], val_loss: 2.2347, val_acc: 0.2214\n",
            "Epoch [1], val_loss: 2.1602, val_acc: 0.3668\n",
            "Epoch [2], val_loss: 2.0682, val_acc: 0.5032\n",
            "Epoch [3], val_loss: 1.9650, val_acc: 0.5916\n",
            "Epoch [4], val_loss: 1.8538, val_acc: 0.6343\n",
            "Epoch [5], val_loss: 1.7366, val_acc: 0.6601\n",
            "Epoch [6], val_loss: 1.6163, val_acc: 0.6835\n",
            "Epoch [7], val_loss: 1.4981, val_acc: 0.7152\n",
            "Epoch [8], val_loss: 1.3860, val_acc: 0.7424\n",
            "Epoch [9], val_loss: 1.2831, val_acc: 0.7587\n",
            "Epoch [10], val_loss: 1.1907, val_acc: 0.7706\n",
            "Epoch [11], val_loss: 1.1092, val_acc: 0.7809\n",
            "Epoch [12], val_loss: 1.0381, val_acc: 0.7901\n",
            "Epoch [13], val_loss: 0.9761, val_acc: 0.7978\n",
            "Epoch [14], val_loss: 0.9223, val_acc: 0.8054\n",
            "Epoch [15], val_loss: 0.8754, val_acc: 0.8120\n",
            "Epoch [16], val_loss: 0.8344, val_acc: 0.8177\n",
            "Epoch [17], val_loss: 0.7984, val_acc: 0.8218\n",
            "Epoch [18], val_loss: 0.7665, val_acc: 0.8288\n",
            "Epoch [19], val_loss: 0.7381, val_acc: 0.8321\n",
            "Epoch [20], val_loss: 0.7128, val_acc: 0.8350\n",
            "Epoch [21], val_loss: 0.6900, val_acc: 0.8388\n",
            "Epoch [22], val_loss: 0.6694, val_acc: 0.8410\n",
            "Epoch [23], val_loss: 0.6509, val_acc: 0.8454\n",
            "Epoch [24], val_loss: 0.6339, val_acc: 0.8483\n",
            "Epoch [25], val_loss: 0.6183, val_acc: 0.8508\n",
            "Epoch [26], val_loss: 0.6041, val_acc: 0.8528\n",
            "Epoch [27], val_loss: 0.5911, val_acc: 0.8540\n",
            "Epoch [28], val_loss: 0.5789, val_acc: 0.8553\n",
            "Epoch [29], val_loss: 0.5678, val_acc: 0.8576\n",
            "Epoch [30], val_loss: 0.5574, val_acc: 0.8595\n",
            "Epoch [31], val_loss: 0.5477, val_acc: 0.8616\n",
            "Epoch [32], val_loss: 0.5387, val_acc: 0.8623\n",
            "Epoch [33], val_loss: 0.5302, val_acc: 0.8635\n",
            "Epoch [34], val_loss: 0.5223, val_acc: 0.8643\n",
            "Epoch [35], val_loss: 0.5150, val_acc: 0.8665\n",
            "Epoch [36], val_loss: 0.5080, val_acc: 0.8686\n",
            "Epoch [37], val_loss: 0.5014, val_acc: 0.8694\n",
            "Epoch [38], val_loss: 0.4952, val_acc: 0.8705\n",
            "Epoch [39], val_loss: 0.4893, val_acc: 0.8715\n",
            "Epoch [40], val_loss: 0.4837, val_acc: 0.8726\n",
            "Epoch [41], val_loss: 0.4785, val_acc: 0.8733\n",
            "Epoch [42], val_loss: 0.4735, val_acc: 0.8742\n",
            "Epoch [43], val_loss: 0.4687, val_acc: 0.8752\n",
            "Epoch [44], val_loss: 0.4643, val_acc: 0.8755\n",
            "Epoch [45], val_loss: 0.4600, val_acc: 0.8768\n",
            "Epoch [46], val_loss: 0.4558, val_acc: 0.8775\n",
            "Epoch [47], val_loss: 0.4519, val_acc: 0.8782\n",
            "Epoch [48], val_loss: 0.4482, val_acc: 0.8790\n",
            "Epoch [49], val_loss: 0.4445, val_acc: 0.8795\n"
          ],
          "name": "stdout"
        }
      ]
    },
    {
      "cell_type": "code",
      "metadata": {
        "id": "0nGKD1-N90la",
        "colab": {
          "base_uri": "https://localhost:8080/"
        },
        "outputId": "7eb3c5a1-3464-4567-a950-fc24f3c108e5"
      },
      "source": [
        "torch.cuda.is_available()"
      ],
      "execution_count": null,
      "outputs": [
        {
          "output_type": "execute_result",
          "data": {
            "text/plain": [
              "True"
            ]
          },
          "metadata": {
            "tags": []
          },
          "execution_count": 116
        }
      ]
    },
    {
      "cell_type": "code",
      "metadata": {
        "id": "1oxBO_5z98GF"
      },
      "source": [
        ""
      ],
      "execution_count": null,
      "outputs": []
    }
  ]
}